{
 "cells": [
  {
   "cell_type": "markdown",
   "metadata": {},
   "source": [
    "# Анализ рекламных источников игры \"Космические братья\"\n",
    "\n",
    "Анализ рекламных источников в мобильной игре «Космические братья». В ней пользователи строят свою космическую программу и\n",
    "пытаются преуспеть в нелёгком деле колонизации галактики. Основная монетизация игры — только планируется. Но предполагается, что в приложении будет происходить показ рекламы на экране с выбором типа объекта для постройки.\n",
    "\n",
    "**Задачи исследования**\n",
    "* Проанализировать поведения игроков в зависимости от источника перехода.\n",
    "* Провести исследовательский анализ данных;\n",
    "* Проанализировать эффективность разных источников перехода\n",
    "* Проверить статистические гипотезы"
   ]
  },
  {
   "cell_type": "markdown",
   "metadata": {},
   "source": [
    "## Чтение и подготовка данных\n",
    "\n",
    "В датасете представлены данные по игре пользователей на первом уровне. Завершение первого уровня требует от игрока выполнения одного из двух условий:\n",
    "* Победа над первым врагом\n",
    "* Реализация проекта - разработка орбитальной сборки спутников\n",
    "\n",
    "В датасете содержатся данные первых пользователей приложения — когорты пользователей, которые начали пользоваться приложением в период с 4 по 10 мая включительно\n",
    "\n",
    "**Описание данных**\n",
    "\n",
    "Файл `game_actions.csv`:\n",
    "* `event_datetime` — время события;\n",
    "* `event` — одно из трёх событий:\n",
    "    1. `building` — объект построен,\n",
    "    2. `finished_stage_1` — первый уровень завершён,\n",
    "    3. `project` — проект завершён;\n",
    "    \n",
    "    \n",
    "* `building_type` — один из трёх типов здания:\n",
    "    1. `assembly_shop` — сборочный цех,\n",
    "    2. `spaceport` — космопорт,\n",
    "    3. `research_center` — исследовательский центр\n",
    "    \n",
    "    \n",
    "* `user_id` — идентификатор пользователя;\n",
    "* `project_type` — тип реализованного проекта;\n",
    "\n",
    "Файл `ad_costs.csv`:\n",
    "* `day` - день, в который был совершен клик по объявлению\n",
    "* `source` - источник трафика\n",
    "* `cost` - стоимость кликов\n",
    "\n",
    "Файл `user_source.csv`:\n",
    "* `user_id` - идентификатор пользователя\n",
    "* `source` - источников, с которого пришёл пользователь, установивший приложение"
   ]
  },
  {
   "cell_type": "code",
   "execution_count": 1,
   "metadata": {},
   "outputs": [],
   "source": [
    "import pandas as pd\n",
    "from matplotlib import pyplot as plt\n",
    "import seaborn as sns\n",
    "import scipy.stats as stats"
   ]
  },
  {
   "cell_type": "markdown",
   "metadata": {},
   "source": [
    "### game_actions"
   ]
  },
  {
   "cell_type": "code",
   "execution_count": 2,
   "metadata": {},
   "outputs": [],
   "source": [
    "game_actions = pd.read_csv('/datasets/game_actions.csv')"
   ]
  },
  {
   "cell_type": "code",
   "execution_count": 3,
   "metadata": {},
   "outputs": [
    {
     "data": {
      "text/html": [
       "<div>\n",
       "<style scoped>\n",
       "    .dataframe tbody tr th:only-of-type {\n",
       "        vertical-align: middle;\n",
       "    }\n",
       "\n",
       "    .dataframe tbody tr th {\n",
       "        vertical-align: top;\n",
       "    }\n",
       "\n",
       "    .dataframe thead th {\n",
       "        text-align: right;\n",
       "    }\n",
       "</style>\n",
       "<table border=\"1\" class=\"dataframe\">\n",
       "  <thead>\n",
       "    <tr style=\"text-align: right;\">\n",
       "      <th></th>\n",
       "      <th>event_datetime</th>\n",
       "      <th>event</th>\n",
       "      <th>building_type</th>\n",
       "      <th>user_id</th>\n",
       "      <th>project_type</th>\n",
       "    </tr>\n",
       "  </thead>\n",
       "  <tbody>\n",
       "    <tr>\n",
       "      <th>0</th>\n",
       "      <td>2020-05-04 00:00:01</td>\n",
       "      <td>building</td>\n",
       "      <td>assembly_shop</td>\n",
       "      <td>55e92310-cb8e-4754-b622-597e124b03de</td>\n",
       "      <td>NaN</td>\n",
       "    </tr>\n",
       "    <tr>\n",
       "      <th>1</th>\n",
       "      <td>2020-05-04 00:00:03</td>\n",
       "      <td>building</td>\n",
       "      <td>assembly_shop</td>\n",
       "      <td>c07b1c10-f477-44dc-81dc-ec82254b1347</td>\n",
       "      <td>NaN</td>\n",
       "    </tr>\n",
       "    <tr>\n",
       "      <th>2</th>\n",
       "      <td>2020-05-04 00:00:16</td>\n",
       "      <td>building</td>\n",
       "      <td>assembly_shop</td>\n",
       "      <td>6edd42cc-e753-4ff6-a947-2107cd560710</td>\n",
       "      <td>NaN</td>\n",
       "    </tr>\n",
       "    <tr>\n",
       "      <th>3</th>\n",
       "      <td>2020-05-04 00:00:16</td>\n",
       "      <td>building</td>\n",
       "      <td>assembly_shop</td>\n",
       "      <td>92c69003-d60a-444a-827f-8cc51bf6bf4c</td>\n",
       "      <td>NaN</td>\n",
       "    </tr>\n",
       "    <tr>\n",
       "      <th>4</th>\n",
       "      <td>2020-05-04 00:00:35</td>\n",
       "      <td>building</td>\n",
       "      <td>assembly_shop</td>\n",
       "      <td>cdc6bb92-0ccb-4490-9866-ef142f09139d</td>\n",
       "      <td>NaN</td>\n",
       "    </tr>\n",
       "  </tbody>\n",
       "</table>\n",
       "</div>"
      ],
      "text/plain": [
       "        event_datetime     event  building_type  \\\n",
       "0  2020-05-04 00:00:01  building  assembly_shop   \n",
       "1  2020-05-04 00:00:03  building  assembly_shop   \n",
       "2  2020-05-04 00:00:16  building  assembly_shop   \n",
       "3  2020-05-04 00:00:16  building  assembly_shop   \n",
       "4  2020-05-04 00:00:35  building  assembly_shop   \n",
       "\n",
       "                                user_id project_type  \n",
       "0  55e92310-cb8e-4754-b622-597e124b03de          NaN  \n",
       "1  c07b1c10-f477-44dc-81dc-ec82254b1347          NaN  \n",
       "2  6edd42cc-e753-4ff6-a947-2107cd560710          NaN  \n",
       "3  92c69003-d60a-444a-827f-8cc51bf6bf4c          NaN  \n",
       "4  cdc6bb92-0ccb-4490-9866-ef142f09139d          NaN  "
      ]
     },
     "execution_count": 3,
     "metadata": {},
     "output_type": "execute_result"
    }
   ],
   "source": [
    "game_actions.head()"
   ]
  },
  {
   "cell_type": "code",
   "execution_count": 4,
   "metadata": {},
   "outputs": [
    {
     "name": "stdout",
     "output_type": "stream",
     "text": [
      "<class 'pandas.core.frame.DataFrame'>\n",
      "RangeIndex: 135640 entries, 0 to 135639\n",
      "Data columns (total 5 columns):\n",
      " #   Column          Non-Null Count   Dtype \n",
      "---  ------          --------------   ----- \n",
      " 0   event_datetime  135640 non-null  object\n",
      " 1   event           135640 non-null  object\n",
      " 2   building_type   127957 non-null  object\n",
      " 3   user_id         135640 non-null  object\n",
      " 4   project_type    1866 non-null    object\n",
      "dtypes: object(5)\n",
      "memory usage: 5.2+ MB\n"
     ]
    }
   ],
   "source": [
    "game_actions.info()"
   ]
  },
  {
   "cell_type": "markdown",
   "metadata": {},
   "source": [
    "Пропуски есть только в building_type и project_type, это соответствует характеру данных (так как эти ячейки заполнены только при определенном типе события).\n",
    "\n",
    "Приведем event_datetime к типу данных datetime"
   ]
  },
  {
   "cell_type": "code",
   "execution_count": 5,
   "metadata": {},
   "outputs": [],
   "source": [
    "game_actions['event_datetime'] = pd.to_datetime(game_actions['event_datetime'])"
   ]
  },
  {
   "cell_type": "markdown",
   "metadata": {},
   "source": [
    "Выделим дату в отдельный столбец"
   ]
  },
  {
   "cell_type": "code",
   "execution_count": 6,
   "metadata": {},
   "outputs": [],
   "source": [
    "game_actions['event_date'] = game_actions['event_datetime'].dt.date"
   ]
  },
  {
   "cell_type": "code",
   "execution_count": 7,
   "metadata": {},
   "outputs": [
    {
     "name": "stdout",
     "output_type": "stream",
     "text": [
      "<class 'pandas.core.frame.DataFrame'>\n",
      "RangeIndex: 135640 entries, 0 to 135639\n",
      "Data columns (total 6 columns):\n",
      " #   Column          Non-Null Count   Dtype         \n",
      "---  ------          --------------   -----         \n",
      " 0   event_datetime  135640 non-null  datetime64[ns]\n",
      " 1   event           135640 non-null  object        \n",
      " 2   building_type   127957 non-null  object        \n",
      " 3   user_id         135640 non-null  object        \n",
      " 4   project_type    1866 non-null    object        \n",
      " 5   event_date      135640 non-null  object        \n",
      "dtypes: datetime64[ns](1), object(5)\n",
      "memory usage: 6.2+ MB\n"
     ]
    }
   ],
   "source": [
    "game_actions.info()"
   ]
  },
  {
   "cell_type": "markdown",
   "metadata": {},
   "source": [
    "### ad_costs"
   ]
  },
  {
   "cell_type": "code",
   "execution_count": 8,
   "metadata": {},
   "outputs": [],
   "source": [
    "ad_costs = pd.read_csv('/datasets/ad_costs.csv')"
   ]
  },
  {
   "cell_type": "code",
   "execution_count": 9,
   "metadata": {},
   "outputs": [
    {
     "data": {
      "text/html": [
       "<div>\n",
       "<style scoped>\n",
       "    .dataframe tbody tr th:only-of-type {\n",
       "        vertical-align: middle;\n",
       "    }\n",
       "\n",
       "    .dataframe tbody tr th {\n",
       "        vertical-align: top;\n",
       "    }\n",
       "\n",
       "    .dataframe thead th {\n",
       "        text-align: right;\n",
       "    }\n",
       "</style>\n",
       "<table border=\"1\" class=\"dataframe\">\n",
       "  <thead>\n",
       "    <tr style=\"text-align: right;\">\n",
       "      <th></th>\n",
       "      <th>source</th>\n",
       "      <th>day</th>\n",
       "      <th>cost</th>\n",
       "    </tr>\n",
       "  </thead>\n",
       "  <tbody>\n",
       "    <tr>\n",
       "      <th>0</th>\n",
       "      <td>facebook_ads</td>\n",
       "      <td>2020-05-03</td>\n",
       "      <td>935.882786</td>\n",
       "    </tr>\n",
       "    <tr>\n",
       "      <th>1</th>\n",
       "      <td>facebook_ads</td>\n",
       "      <td>2020-05-04</td>\n",
       "      <td>548.354480</td>\n",
       "    </tr>\n",
       "    <tr>\n",
       "      <th>2</th>\n",
       "      <td>facebook_ads</td>\n",
       "      <td>2020-05-05</td>\n",
       "      <td>260.185754</td>\n",
       "    </tr>\n",
       "    <tr>\n",
       "      <th>3</th>\n",
       "      <td>facebook_ads</td>\n",
       "      <td>2020-05-06</td>\n",
       "      <td>177.982200</td>\n",
       "    </tr>\n",
       "    <tr>\n",
       "      <th>4</th>\n",
       "      <td>facebook_ads</td>\n",
       "      <td>2020-05-07</td>\n",
       "      <td>111.766796</td>\n",
       "    </tr>\n",
       "  </tbody>\n",
       "</table>\n",
       "</div>"
      ],
      "text/plain": [
       "         source         day        cost\n",
       "0  facebook_ads  2020-05-03  935.882786\n",
       "1  facebook_ads  2020-05-04  548.354480\n",
       "2  facebook_ads  2020-05-05  260.185754\n",
       "3  facebook_ads  2020-05-06  177.982200\n",
       "4  facebook_ads  2020-05-07  111.766796"
      ]
     },
     "execution_count": 9,
     "metadata": {},
     "output_type": "execute_result"
    }
   ],
   "source": [
    "ad_costs.head()"
   ]
  },
  {
   "cell_type": "code",
   "execution_count": 10,
   "metadata": {},
   "outputs": [
    {
     "name": "stdout",
     "output_type": "stream",
     "text": [
      "<class 'pandas.core.frame.DataFrame'>\n",
      "RangeIndex: 28 entries, 0 to 27\n",
      "Data columns (total 3 columns):\n",
      " #   Column  Non-Null Count  Dtype  \n",
      "---  ------  --------------  -----  \n",
      " 0   source  28 non-null     object \n",
      " 1   day     28 non-null     object \n",
      " 2   cost    28 non-null     float64\n",
      "dtypes: float64(1), object(2)\n",
      "memory usage: 800.0+ bytes\n"
     ]
    }
   ],
   "source": [
    "ad_costs.info()"
   ]
  },
  {
   "cell_type": "code",
   "execution_count": 11,
   "metadata": {},
   "outputs": [],
   "source": [
    "ad_costs['day'] = pd.to_datetime(ad_costs['day']).dt.date"
   ]
  },
  {
   "cell_type": "markdown",
   "metadata": {},
   "source": [
    "Посмотрим какие бывают рекламные каналы"
   ]
  },
  {
   "cell_type": "code",
   "execution_count": 12,
   "metadata": {},
   "outputs": [
    {
     "data": {
      "text/plain": [
       "array(['facebook_ads', 'instagram_new_adverts', 'yandex_direct',\n",
       "       'youtube_channel_reklama'], dtype=object)"
      ]
     },
     "execution_count": 12,
     "metadata": {},
     "output_type": "execute_result"
    }
   ],
   "source": [
    "ad_costs['source'].unique()"
   ]
  },
  {
   "cell_type": "markdown",
   "metadata": {},
   "source": [
    "### user_source"
   ]
  },
  {
   "cell_type": "code",
   "execution_count": 13,
   "metadata": {},
   "outputs": [],
   "source": [
    "user_source = pd.read_csv('/datasets/user_source.csv')"
   ]
  },
  {
   "cell_type": "code",
   "execution_count": 14,
   "metadata": {},
   "outputs": [
    {
     "data": {
      "text/html": [
       "<div>\n",
       "<style scoped>\n",
       "    .dataframe tbody tr th:only-of-type {\n",
       "        vertical-align: middle;\n",
       "    }\n",
       "\n",
       "    .dataframe tbody tr th {\n",
       "        vertical-align: top;\n",
       "    }\n",
       "\n",
       "    .dataframe thead th {\n",
       "        text-align: right;\n",
       "    }\n",
       "</style>\n",
       "<table border=\"1\" class=\"dataframe\">\n",
       "  <thead>\n",
       "    <tr style=\"text-align: right;\">\n",
       "      <th></th>\n",
       "      <th>user_id</th>\n",
       "      <th>source</th>\n",
       "    </tr>\n",
       "  </thead>\n",
       "  <tbody>\n",
       "    <tr>\n",
       "      <th>0</th>\n",
       "      <td>0001f83c-c6ac-4621-b7f0-8a28b283ac30</td>\n",
       "      <td>facebook_ads</td>\n",
       "    </tr>\n",
       "    <tr>\n",
       "      <th>1</th>\n",
       "      <td>00151b4f-ba38-44a8-a650-d7cf130a0105</td>\n",
       "      <td>yandex_direct</td>\n",
       "    </tr>\n",
       "    <tr>\n",
       "      <th>2</th>\n",
       "      <td>001aaea6-3d14-43f1-8ca8-7f48820f17aa</td>\n",
       "      <td>youtube_channel_reklama</td>\n",
       "    </tr>\n",
       "    <tr>\n",
       "      <th>3</th>\n",
       "      <td>001d39dc-366c-4021-9604-6a3b9ff01e25</td>\n",
       "      <td>instagram_new_adverts</td>\n",
       "    </tr>\n",
       "    <tr>\n",
       "      <th>4</th>\n",
       "      <td>002f508f-67b6-479f-814b-b05f00d4e995</td>\n",
       "      <td>facebook_ads</td>\n",
       "    </tr>\n",
       "  </tbody>\n",
       "</table>\n",
       "</div>"
      ],
      "text/plain": [
       "                                user_id                   source\n",
       "0  0001f83c-c6ac-4621-b7f0-8a28b283ac30             facebook_ads\n",
       "1  00151b4f-ba38-44a8-a650-d7cf130a0105            yandex_direct\n",
       "2  001aaea6-3d14-43f1-8ca8-7f48820f17aa  youtube_channel_reklama\n",
       "3  001d39dc-366c-4021-9604-6a3b9ff01e25    instagram_new_adverts\n",
       "4  002f508f-67b6-479f-814b-b05f00d4e995             facebook_ads"
      ]
     },
     "execution_count": 14,
     "metadata": {},
     "output_type": "execute_result"
    }
   ],
   "source": [
    "user_source.head()"
   ]
  },
  {
   "cell_type": "code",
   "execution_count": 15,
   "metadata": {},
   "outputs": [
    {
     "name": "stdout",
     "output_type": "stream",
     "text": [
      "<class 'pandas.core.frame.DataFrame'>\n",
      "RangeIndex: 13576 entries, 0 to 13575\n",
      "Data columns (total 2 columns):\n",
      " #   Column   Non-Null Count  Dtype \n",
      "---  ------   --------------  ----- \n",
      " 0   user_id  13576 non-null  object\n",
      " 1   source   13576 non-null  object\n",
      "dtypes: object(2)\n",
      "memory usage: 212.2+ KB\n"
     ]
    }
   ],
   "source": [
    "user_source.info()"
   ]
  },
  {
   "cell_type": "markdown",
   "metadata": {},
   "source": [
    "Здесь всё хорошо, пропусков нет, типы данных правильные\n",
    "\n",
    "Посмотрим какие у нас бывают источники рекламы"
   ]
  },
  {
   "cell_type": "code",
   "execution_count": 16,
   "metadata": {},
   "outputs": [
    {
     "data": {
      "text/plain": [
       "array(['facebook_ads', 'yandex_direct', 'youtube_channel_reklama',\n",
       "       'instagram_new_adverts'], dtype=object)"
      ]
     },
     "execution_count": 16,
     "metadata": {},
     "output_type": "execute_result"
    }
   ],
   "source": [
    "user_source['source'].unique()"
   ]
  },
  {
   "cell_type": "markdown",
   "metadata": {},
   "source": [
    "## Исследовательский анализ данных"
   ]
  },
  {
   "cell_type": "markdown",
   "metadata": {},
   "source": [
    "### Динамика активности по событиям \n",
    "Построим динамику активности по событиям и посмотрим как они распределены"
   ]
  },
  {
   "cell_type": "code",
   "execution_count": 17,
   "metadata": {},
   "outputs": [
    {
     "name": "stdout",
     "output_type": "stream",
     "text": [
      "Минимальная дата событий: 2020-05-04\n",
      "Максимальная дата событий: 2020-06-05\n"
     ]
    }
   ],
   "source": [
    "print('Минимальная дата событий:', game_actions['event_date'].min())\n",
    "print('Максимальная дата событий:', game_actions['event_date'].max())"
   ]
  },
  {
   "cell_type": "code",
   "execution_count": 62,
   "metadata": {},
   "outputs": [
    {
     "data": {
      "image/png": "[encoded data removed]",
      "text/plain": [
       "<Figure size 1080x576 with 1 Axes>"
      ]
     },
     "metadata": {
      "needs_background": "light"
     },
     "output_type": "display_data"
    }
   ],
   "source": [
    "plt.figure(figsize=(15,8))\n",
    "sns.histplot(data=game_actions, x='event_date')\n",
    "plt.title('Динамика активности по событиям')\n",
    "plt.xlabel('Дата')\n",
    "plt.ylabel('Кол-во событий');"
   ]
  },
  {
   "cell_type": "markdown",
   "metadata": {},
   "source": [
    "В датасете содержатся данные первых пользователей приложения — когорты пользователей, которые начали пользоваться приложением в период с 4 по 10 мая включительно. Это видно и на графике, после 10го мая приток новых пользователей закончился и дальше количество событий плавно (после первого резкого скачка) пошло на спад. Аномалий нет"
   ]
  },
  {
   "cell_type": "markdown",
   "metadata": {},
   "source": [
    "### Распределение по типам событий и типам зданий\n",
    "\n",
    "Посмотрим на распредление по типам событий. Ожидаем, что построек зданий будет значительно больше остальных событий, так как проект и заерешение уровня у каждого игрока случаются только один раз"
   ]
  },
  {
   "cell_type": "code",
   "execution_count": 19,
   "metadata": {},
   "outputs": [
    {
     "data": {
      "image/png": "[encoded data removed]",
      "text/plain": [
       "<Figure size 432x432 with 1 Axes>"
      ]
     },
     "metadata": {},
     "output_type": "display_data"
    }
   ],
   "source": [
    "colors = sns.color_palette('deep')[0:3]\n",
    "plt.figure(figsize=(6,6))\n",
    "chart = plt.pie(x=game_actions.groupby(by='event')['event'].count(), \n",
    "                labels=game_actions['event'].unique(), colors=colors, autopct='%.0f%%')\n",
    "text = plt.title('Распределение по типам событий')"
   ]
  },
  {
   "cell_type": "markdown",
   "metadata": {},
   "source": [
    "График соответсвует ожиданиям, данные нормальные, это приятно =)\n",
    "Причем количество сдавших проект меньше тех, кто перешел на второй уровень, что тоже логично и правильно."
   ]
  },
  {
   "cell_type": "markdown",
   "metadata": {},
   "source": [
    "Посмотрим теперь, какие здания при строительстве самые популярные"
   ]
  },
  {
   "cell_type": "code",
   "execution_count": 20,
   "metadata": {},
   "outputs": [
    {
     "data": {
      "image/png": "[encoded data removed]",
      "text/plain": [
       "<Figure size 432x432 with 1 Axes>"
      ]
     },
     "metadata": {},
     "output_type": "display_data"
    }
   ],
   "source": [
    "colors = sns.color_palette('deep')[0:3]\n",
    "plt.figure(figsize=(6,6))\n",
    "chart = plt.pie(x=game_actions.query('event == \"building\"').groupby(by='building_type')['event'].count(), \n",
    "                labels=game_actions.query('event == \"building\"')['building_type'].unique(), \n",
    "                colors=colors, autopct='%.0f%%')\n",
    "text = plt.title('Распределение по типам зданий')"
   ]
  },
  {
   "cell_type": "markdown",
   "metadata": {},
   "source": [
    "Получили, что самый популярный объект это исследовательский центр. С небольшим отставанием идет сборочный цех. И меньше всего игроки строят космопорт, видимо он не такой полезный) либо одного космопорта достаточно, в отличии от сборочного цеха и исслед.центра"
   ]
  },
  {
   "cell_type": "markdown",
   "metadata": {},
   "source": [
    "### Профили пользователей\n",
    "\n",
    "Для дальнейшего исследование соберем профили пользователей - идентификатор пользователя, дата начала игры, способ прохождения уровня, время прохождения уровня, количество построенных зданий, канал привлечения, стоимость привлечения\n",
    "\n",
    "Сначала выделим **время начала игры и время последнего события** (это значит либо переход на след.уровень, либо прекращение игры)"
   ]
  },
  {
   "cell_type": "code",
   "execution_count": 21,
   "metadata": {},
   "outputs": [],
   "source": [
    "profiles = (\n",
    "    game_actions.sort_values(by='event_date')\n",
    "    .groupby(by='user_id')\n",
    "    .agg({\n",
    "        'event_date': ['first', 'last']\n",
    "    })\n",
    "    .rename(columns={'first': 'game_start', 'last': 'game_stop'}, level=1)\n",
    "    .droplevel(level=0, axis=1)\n",
    "    .reset_index()\n",
    ")"
   ]
  },
  {
   "cell_type": "code",
   "execution_count": 22,
   "metadata": {},
   "outputs": [
    {
     "data": {
      "text/html": [
       "<div>\n",
       "<style scoped>\n",
       "    .dataframe tbody tr th:only-of-type {\n",
       "        vertical-align: middle;\n",
       "    }\n",
       "\n",
       "    .dataframe tbody tr th {\n",
       "        vertical-align: top;\n",
       "    }\n",
       "\n",
       "    .dataframe thead th {\n",
       "        text-align: right;\n",
       "    }\n",
       "</style>\n",
       "<table border=\"1\" class=\"dataframe\">\n",
       "  <thead>\n",
       "    <tr style=\"text-align: right;\">\n",
       "      <th></th>\n",
       "      <th>user_id</th>\n",
       "      <th>game_start</th>\n",
       "      <th>game_stop</th>\n",
       "    </tr>\n",
       "  </thead>\n",
       "  <tbody>\n",
       "    <tr>\n",
       "      <th>0</th>\n",
       "      <td>0001f83c-c6ac-4621-b7f0-8a28b283ac30</td>\n",
       "      <td>2020-05-06</td>\n",
       "      <td>2020-05-20</td>\n",
       "    </tr>\n",
       "    <tr>\n",
       "      <th>1</th>\n",
       "      <td>00151b4f-ba38-44a8-a650-d7cf130a0105</td>\n",
       "      <td>2020-05-06</td>\n",
       "      <td>2020-05-18</td>\n",
       "    </tr>\n",
       "    <tr>\n",
       "      <th>2</th>\n",
       "      <td>001aaea6-3d14-43f1-8ca8-7f48820f17aa</td>\n",
       "      <td>2020-05-05</td>\n",
       "      <td>2020-05-14</td>\n",
       "    </tr>\n",
       "    <tr>\n",
       "      <th>3</th>\n",
       "      <td>001d39dc-366c-4021-9604-6a3b9ff01e25</td>\n",
       "      <td>2020-05-05</td>\n",
       "      <td>2020-05-12</td>\n",
       "    </tr>\n",
       "    <tr>\n",
       "      <th>4</th>\n",
       "      <td>002f508f-67b6-479f-814b-b05f00d4e995</td>\n",
       "      <td>2020-05-05</td>\n",
       "      <td>2020-05-22</td>\n",
       "    </tr>\n",
       "  </tbody>\n",
       "</table>\n",
       "</div>"
      ],
      "text/plain": [
       "                                user_id  game_start   game_stop\n",
       "0  0001f83c-c6ac-4621-b7f0-8a28b283ac30  2020-05-06  2020-05-20\n",
       "1  00151b4f-ba38-44a8-a650-d7cf130a0105  2020-05-06  2020-05-18\n",
       "2  001aaea6-3d14-43f1-8ca8-7f48820f17aa  2020-05-05  2020-05-14\n",
       "3  001d39dc-366c-4021-9604-6a3b9ff01e25  2020-05-05  2020-05-12\n",
       "4  002f508f-67b6-479f-814b-b05f00d4e995  2020-05-05  2020-05-22"
      ]
     },
     "execution_count": 22,
     "metadata": {},
     "output_type": "execute_result"
    }
   ],
   "source": [
    "profiles.head()"
   ]
  },
  {
   "cell_type": "markdown",
   "metadata": {},
   "source": [
    "Теперь добавим **способ прохождения уровня**:\n",
    "* если есть запись о заверешенном проекте, значит игрок прошел уровень через проект\n",
    "* если нет записи о завершенном проекте, значит игрок прошел уровень через победу врага\n",
    "\n",
    "Если у игрока нет события о прохождении уровня, значит он еще его не прошел (логично)\n",
    "\n",
    "Сделаем отдельную булеву колонку о прохождении уровня *level_completed*, и отдельную булеву колонку о строительстве проекта *project_completed*. Таким образом, если уровень пройден и *project_completed=False*, значит игрок прошел уровень через победу врага"
   ]
  },
  {
   "cell_type": "code",
   "execution_count": 23,
   "metadata": {},
   "outputs": [],
   "source": [
    "events = ['finished_stage_1', 'project']\n",
    "for event in events:\n",
    "    profiles[event] = profiles['user_id'].isin(\n",
    "                game_actions.query('event == @event')['user_id'].unique()\n",
    "            )"
   ]
  },
  {
   "cell_type": "code",
   "execution_count": 24,
   "metadata": {},
   "outputs": [
    {
     "data": {
      "text/html": [
       "<div>\n",
       "<style scoped>\n",
       "    .dataframe tbody tr th:only-of-type {\n",
       "        vertical-align: middle;\n",
       "    }\n",
       "\n",
       "    .dataframe tbody tr th {\n",
       "        vertical-align: top;\n",
       "    }\n",
       "\n",
       "    .dataframe thead th {\n",
       "        text-align: right;\n",
       "    }\n",
       "</style>\n",
       "<table border=\"1\" class=\"dataframe\">\n",
       "  <thead>\n",
       "    <tr style=\"text-align: right;\">\n",
       "      <th></th>\n",
       "      <th>user_id</th>\n",
       "      <th>game_start</th>\n",
       "      <th>game_stop</th>\n",
       "      <th>level_completed</th>\n",
       "      <th>project_completed</th>\n",
       "    </tr>\n",
       "  </thead>\n",
       "  <tbody>\n",
       "    <tr>\n",
       "      <th>0</th>\n",
       "      <td>0001f83c-c6ac-4621-b7f0-8a28b283ac30</td>\n",
       "      <td>2020-05-06</td>\n",
       "      <td>2020-05-20</td>\n",
       "      <td>False</td>\n",
       "      <td>False</td>\n",
       "    </tr>\n",
       "    <tr>\n",
       "      <th>1</th>\n",
       "      <td>00151b4f-ba38-44a8-a650-d7cf130a0105</td>\n",
       "      <td>2020-05-06</td>\n",
       "      <td>2020-05-18</td>\n",
       "      <td>False</td>\n",
       "      <td>False</td>\n",
       "    </tr>\n",
       "    <tr>\n",
       "      <th>2</th>\n",
       "      <td>001aaea6-3d14-43f1-8ca8-7f48820f17aa</td>\n",
       "      <td>2020-05-05</td>\n",
       "      <td>2020-05-14</td>\n",
       "      <td>False</td>\n",
       "      <td>False</td>\n",
       "    </tr>\n",
       "    <tr>\n",
       "      <th>3</th>\n",
       "      <td>001d39dc-366c-4021-9604-6a3b9ff01e25</td>\n",
       "      <td>2020-05-05</td>\n",
       "      <td>2020-05-12</td>\n",
       "      <td>True</td>\n",
       "      <td>False</td>\n",
       "    </tr>\n",
       "    <tr>\n",
       "      <th>4</th>\n",
       "      <td>002f508f-67b6-479f-814b-b05f00d4e995</td>\n",
       "      <td>2020-05-05</td>\n",
       "      <td>2020-05-22</td>\n",
       "      <td>False</td>\n",
       "      <td>False</td>\n",
       "    </tr>\n",
       "  </tbody>\n",
       "</table>\n",
       "</div>"
      ],
      "text/plain": [
       "                                user_id  game_start   game_stop  \\\n",
       "0  0001f83c-c6ac-4621-b7f0-8a28b283ac30  2020-05-06  2020-05-20   \n",
       "1  00151b4f-ba38-44a8-a650-d7cf130a0105  2020-05-06  2020-05-18   \n",
       "2  001aaea6-3d14-43f1-8ca8-7f48820f17aa  2020-05-05  2020-05-14   \n",
       "3  001d39dc-366c-4021-9604-6a3b9ff01e25  2020-05-05  2020-05-12   \n",
       "4  002f508f-67b6-479f-814b-b05f00d4e995  2020-05-05  2020-05-22   \n",
       "\n",
       "   level_completed  project_completed  \n",
       "0            False              False  \n",
       "1            False              False  \n",
       "2            False              False  \n",
       "3             True              False  \n",
       "4            False              False  "
      ]
     },
     "execution_count": 24,
     "metadata": {},
     "output_type": "execute_result"
    }
   ],
   "source": [
    "profiles.rename(columns={'finished_stage_1':'level_completed', 'project':'project_completed'}, inplace=True)\n",
    "profiles.head()"
   ]
  },
  {
   "cell_type": "markdown",
   "metadata": {},
   "source": [
    "Проверим, что всё правильно вышло: число пользователей завершивших уровень и построивших проект должно совпадать в профилях и в исходном датасете"
   ]
  },
  {
   "cell_type": "code",
   "execution_count": 25,
   "metadata": {},
   "outputs": [
    {
     "name": "stdout",
     "output_type": "stream",
     "text": [
      "5817\n",
      "5817\n",
      "1866\n",
      "1866\n"
     ]
    }
   ],
   "source": [
    "print(game_actions.query('event == \"finished_stage_1\"')['user_id'].count())\n",
    "print(profiles.query('level_completed == True')['user_id'].count())\n",
    "\n",
    "print(game_actions.query('event == \"project\"')['user_id'].count())\n",
    "print(profiles.query('project_completed == True')['user_id'].count())\n"
   ]
  },
  {
   "cell_type": "markdown",
   "metadata": {},
   "source": [
    "Отлично, кажется всё вышло!\n",
    "\n",
    "Посчитаем теперь **время прохождения уровня** (или просто время игры для тех, кто не прошел уровень)"
   ]
  },
  {
   "cell_type": "code",
   "execution_count": 27,
   "metadata": {},
   "outputs": [
    {
     "data": {
      "text/html": [
       "<div>\n",
       "<style scoped>\n",
       "    .dataframe tbody tr th:only-of-type {\n",
       "        vertical-align: middle;\n",
       "    }\n",
       "\n",
       "    .dataframe tbody tr th {\n",
       "        vertical-align: top;\n",
       "    }\n",
       "\n",
       "    .dataframe thead th {\n",
       "        text-align: right;\n",
       "    }\n",
       "</style>\n",
       "<table border=\"1\" class=\"dataframe\">\n",
       "  <thead>\n",
       "    <tr style=\"text-align: right;\">\n",
       "      <th></th>\n",
       "      <th>user_id</th>\n",
       "      <th>game_start</th>\n",
       "      <th>game_stop</th>\n",
       "      <th>level_completed</th>\n",
       "      <th>project_completed</th>\n",
       "      <th>time_for_level</th>\n",
       "    </tr>\n",
       "  </thead>\n",
       "  <tbody>\n",
       "    <tr>\n",
       "      <th>0</th>\n",
       "      <td>0001f83c-c6ac-4621-b7f0-8a28b283ac30</td>\n",
       "      <td>2020-05-06</td>\n",
       "      <td>2020-05-20</td>\n",
       "      <td>False</td>\n",
       "      <td>False</td>\n",
       "      <td>14</td>\n",
       "    </tr>\n",
       "    <tr>\n",
       "      <th>1</th>\n",
       "      <td>00151b4f-ba38-44a8-a650-d7cf130a0105</td>\n",
       "      <td>2020-05-06</td>\n",
       "      <td>2020-05-18</td>\n",
       "      <td>False</td>\n",
       "      <td>False</td>\n",
       "      <td>12</td>\n",
       "    </tr>\n",
       "    <tr>\n",
       "      <th>2</th>\n",
       "      <td>001aaea6-3d14-43f1-8ca8-7f48820f17aa</td>\n",
       "      <td>2020-05-05</td>\n",
       "      <td>2020-05-14</td>\n",
       "      <td>False</td>\n",
       "      <td>False</td>\n",
       "      <td>9</td>\n",
       "    </tr>\n",
       "    <tr>\n",
       "      <th>3</th>\n",
       "      <td>001d39dc-366c-4021-9604-6a3b9ff01e25</td>\n",
       "      <td>2020-05-05</td>\n",
       "      <td>2020-05-12</td>\n",
       "      <td>True</td>\n",
       "      <td>False</td>\n",
       "      <td>7</td>\n",
       "    </tr>\n",
       "    <tr>\n",
       "      <th>4</th>\n",
       "      <td>002f508f-67b6-479f-814b-b05f00d4e995</td>\n",
       "      <td>2020-05-05</td>\n",
       "      <td>2020-05-22</td>\n",
       "      <td>False</td>\n",
       "      <td>False</td>\n",
       "      <td>17</td>\n",
       "    </tr>\n",
       "  </tbody>\n",
       "</table>\n",
       "</div>"
      ],
      "text/plain": [
       "                                user_id  game_start   game_stop  \\\n",
       "0  0001f83c-c6ac-4621-b7f0-8a28b283ac30  2020-05-06  2020-05-20   \n",
       "1  00151b4f-ba38-44a8-a650-d7cf130a0105  2020-05-06  2020-05-18   \n",
       "2  001aaea6-3d14-43f1-8ca8-7f48820f17aa  2020-05-05  2020-05-14   \n",
       "3  001d39dc-366c-4021-9604-6a3b9ff01e25  2020-05-05  2020-05-12   \n",
       "4  002f508f-67b6-479f-814b-b05f00d4e995  2020-05-05  2020-05-22   \n",
       "\n",
       "   level_completed  project_completed  time_for_level  \n",
       "0            False              False              14  \n",
       "1            False              False              12  \n",
       "2            False              False               9  \n",
       "3             True              False               7  \n",
       "4            False              False              17  "
      ]
     },
     "execution_count": 27,
     "metadata": {},
     "output_type": "execute_result"
    }
   ],
   "source": [
    "profiles['time_for_level'] = (profiles['game_stop'] - profiles['game_start']).dt.days\n",
    "profiles.head()"
   ]
  },
  {
   "cell_type": "markdown",
   "metadata": {},
   "source": [
    "Добавим **построенные здания**. Для этого посчитаем их отдельно и смерджим в профили"
   ]
  },
  {
   "cell_type": "code",
   "execution_count": 28,
   "metadata": {},
   "outputs": [],
   "source": [
    "buildings = pd.pivot_table(game_actions.query('event == \"building\"'), \n",
    "                           index='user_id', columns='building_type', values='event', aggfunc='count').reset_index()"
   ]
  },
  {
   "cell_type": "markdown",
   "metadata": {},
   "source": [
    "Заменим пустые значения NaN на нули и изменим типа данных на int"
   ]
  },
  {
   "cell_type": "code",
   "execution_count": 29,
   "metadata": {},
   "outputs": [
    {
     "data": {
      "text/html": [
       "<div>\n",
       "<style scoped>\n",
       "    .dataframe tbody tr th:only-of-type {\n",
       "        vertical-align: middle;\n",
       "    }\n",
       "\n",
       "    .dataframe tbody tr th {\n",
       "        vertical-align: top;\n",
       "    }\n",
       "\n",
       "    .dataframe thead th {\n",
       "        text-align: right;\n",
       "    }\n",
       "</style>\n",
       "<table border=\"1\" class=\"dataframe\">\n",
       "  <thead>\n",
       "    <tr style=\"text-align: right;\">\n",
       "      <th>building_type</th>\n",
       "      <th>user_id</th>\n",
       "      <th>assembly_shop</th>\n",
       "      <th>research_center</th>\n",
       "      <th>spaceport</th>\n",
       "    </tr>\n",
       "  </thead>\n",
       "  <tbody>\n",
       "    <tr>\n",
       "      <th>0</th>\n",
       "      <td>0001f83c-c6ac-4621-b7f0-8a28b283ac30</td>\n",
       "      <td>6</td>\n",
       "      <td>1</td>\n",
       "      <td>6</td>\n",
       "    </tr>\n",
       "    <tr>\n",
       "      <th>1</th>\n",
       "      <td>00151b4f-ba38-44a8-a650-d7cf130a0105</td>\n",
       "      <td>4</td>\n",
       "      <td>0</td>\n",
       "      <td>5</td>\n",
       "    </tr>\n",
       "    <tr>\n",
       "      <th>2</th>\n",
       "      <td>001aaea6-3d14-43f1-8ca8-7f48820f17aa</td>\n",
       "      <td>2</td>\n",
       "      <td>0</td>\n",
       "      <td>2</td>\n",
       "    </tr>\n",
       "    <tr>\n",
       "      <th>3</th>\n",
       "      <td>001d39dc-366c-4021-9604-6a3b9ff01e25</td>\n",
       "      <td>4</td>\n",
       "      <td>0</td>\n",
       "      <td>4</td>\n",
       "    </tr>\n",
       "    <tr>\n",
       "      <th>4</th>\n",
       "      <td>002f508f-67b6-479f-814b-b05f00d4e995</td>\n",
       "      <td>3</td>\n",
       "      <td>1</td>\n",
       "      <td>8</td>\n",
       "    </tr>\n",
       "  </tbody>\n",
       "</table>\n",
       "</div>"
      ],
      "text/plain": [
       "building_type                               user_id  assembly_shop  \\\n",
       "0              0001f83c-c6ac-4621-b7f0-8a28b283ac30              6   \n",
       "1              00151b4f-ba38-44a8-a650-d7cf130a0105              4   \n",
       "2              001aaea6-3d14-43f1-8ca8-7f48820f17aa              2   \n",
       "3              001d39dc-366c-4021-9604-6a3b9ff01e25              4   \n",
       "4              002f508f-67b6-479f-814b-b05f00d4e995              3   \n",
       "\n",
       "building_type  research_center  spaceport  \n",
       "0                            1          6  \n",
       "1                            0          5  \n",
       "2                            0          2  \n",
       "3                            0          4  \n",
       "4                            1          8  "
      ]
     },
     "execution_count": 29,
     "metadata": {},
     "output_type": "execute_result"
    }
   ],
   "source": [
    "buildings[['assembly_shop', 'research_center', 'spaceport']] = buildings[['assembly_shop', 'research_center', 'spaceport']].fillna(0).astype(int)\n",
    "buildings.head()"
   ]
  },
  {
   "cell_type": "markdown",
   "metadata": {},
   "source": [
    "Посчитаем еще одну колонку с общим числом зданий и добавим вё это в профили"
   ]
  },
  {
   "cell_type": "code",
   "execution_count": 30,
   "metadata": {},
   "outputs": [],
   "source": [
    "buildings['buildings'] = buildings['assembly_shop'] + buildings['research_center'] + buildings['spaceport']"
   ]
  },
  {
   "cell_type": "code",
   "execution_count": 31,
   "metadata": {},
   "outputs": [],
   "source": [
    "profiles = profiles.merge(buildings, on='user_id', how='left')"
   ]
  },
  {
   "cell_type": "code",
   "execution_count": 32,
   "metadata": {},
   "outputs": [
    {
     "data": {
      "text/html": [
       "<div>\n",
       "<style scoped>\n",
       "    .dataframe tbody tr th:only-of-type {\n",
       "        vertical-align: middle;\n",
       "    }\n",
       "\n",
       "    .dataframe tbody tr th {\n",
       "        vertical-align: top;\n",
       "    }\n",
       "\n",
       "    .dataframe thead th {\n",
       "        text-align: right;\n",
       "    }\n",
       "</style>\n",
       "<table border=\"1\" class=\"dataframe\">\n",
       "  <thead>\n",
       "    <tr style=\"text-align: right;\">\n",
       "      <th></th>\n",
       "      <th>user_id</th>\n",
       "      <th>game_start</th>\n",
       "      <th>game_stop</th>\n",
       "      <th>level_completed</th>\n",
       "      <th>project_completed</th>\n",
       "      <th>time_for_level</th>\n",
       "      <th>assembly_shop</th>\n",
       "      <th>research_center</th>\n",
       "      <th>spaceport</th>\n",
       "      <th>buildings</th>\n",
       "    </tr>\n",
       "  </thead>\n",
       "  <tbody>\n",
       "    <tr>\n",
       "      <th>0</th>\n",
       "      <td>0001f83c-c6ac-4621-b7f0-8a28b283ac30</td>\n",
       "      <td>2020-05-06</td>\n",
       "      <td>2020-05-20</td>\n",
       "      <td>False</td>\n",
       "      <td>False</td>\n",
       "      <td>14</td>\n",
       "      <td>6</td>\n",
       "      <td>1</td>\n",
       "      <td>6</td>\n",
       "      <td>13</td>\n",
       "    </tr>\n",
       "    <tr>\n",
       "      <th>1</th>\n",
       "      <td>00151b4f-ba38-44a8-a650-d7cf130a0105</td>\n",
       "      <td>2020-05-06</td>\n",
       "      <td>2020-05-18</td>\n",
       "      <td>False</td>\n",
       "      <td>False</td>\n",
       "      <td>12</td>\n",
       "      <td>4</td>\n",
       "      <td>0</td>\n",
       "      <td>5</td>\n",
       "      <td>9</td>\n",
       "    </tr>\n",
       "    <tr>\n",
       "      <th>2</th>\n",
       "      <td>001aaea6-3d14-43f1-8ca8-7f48820f17aa</td>\n",
       "      <td>2020-05-05</td>\n",
       "      <td>2020-05-14</td>\n",
       "      <td>False</td>\n",
       "      <td>False</td>\n",
       "      <td>9</td>\n",
       "      <td>2</td>\n",
       "      <td>0</td>\n",
       "      <td>2</td>\n",
       "      <td>4</td>\n",
       "    </tr>\n",
       "    <tr>\n",
       "      <th>3</th>\n",
       "      <td>001d39dc-366c-4021-9604-6a3b9ff01e25</td>\n",
       "      <td>2020-05-05</td>\n",
       "      <td>2020-05-12</td>\n",
       "      <td>True</td>\n",
       "      <td>False</td>\n",
       "      <td>7</td>\n",
       "      <td>4</td>\n",
       "      <td>0</td>\n",
       "      <td>4</td>\n",
       "      <td>8</td>\n",
       "    </tr>\n",
       "    <tr>\n",
       "      <th>4</th>\n",
       "      <td>002f508f-67b6-479f-814b-b05f00d4e995</td>\n",
       "      <td>2020-05-05</td>\n",
       "      <td>2020-05-22</td>\n",
       "      <td>False</td>\n",
       "      <td>False</td>\n",
       "      <td>17</td>\n",
       "      <td>3</td>\n",
       "      <td>1</td>\n",
       "      <td>8</td>\n",
       "      <td>12</td>\n",
       "    </tr>\n",
       "  </tbody>\n",
       "</table>\n",
       "</div>"
      ],
      "text/plain": [
       "                                user_id  game_start   game_stop  \\\n",
       "0  0001f83c-c6ac-4621-b7f0-8a28b283ac30  2020-05-06  2020-05-20   \n",
       "1  00151b4f-ba38-44a8-a650-d7cf130a0105  2020-05-06  2020-05-18   \n",
       "2  001aaea6-3d14-43f1-8ca8-7f48820f17aa  2020-05-05  2020-05-14   \n",
       "3  001d39dc-366c-4021-9604-6a3b9ff01e25  2020-05-05  2020-05-12   \n",
       "4  002f508f-67b6-479f-814b-b05f00d4e995  2020-05-05  2020-05-22   \n",
       "\n",
       "   level_completed  project_completed  time_for_level  assembly_shop  \\\n",
       "0            False              False              14              6   \n",
       "1            False              False              12              4   \n",
       "2            False              False               9              2   \n",
       "3             True              False               7              4   \n",
       "4            False              False              17              3   \n",
       "\n",
       "   research_center  spaceport  buildings  \n",
       "0                1          6         13  \n",
       "1                0          5          9  \n",
       "2                0          2          4  \n",
       "3                0          4          8  \n",
       "4                1          8         12  "
      ]
     },
     "execution_count": 32,
     "metadata": {},
     "output_type": "execute_result"
    }
   ],
   "source": [
    "profiles.head()"
   ]
  },
  {
   "cell_type": "markdown",
   "metadata": {},
   "source": [
    "Добавим **канал привлечения**"
   ]
  },
  {
   "cell_type": "code",
   "execution_count": 33,
   "metadata": {},
   "outputs": [],
   "source": [
    "profiles = profiles.merge(user_source, on='user_id', how='left')"
   ]
  },
  {
   "cell_type": "code",
   "execution_count": 34,
   "metadata": {},
   "outputs": [
    {
     "data": {
      "text/html": [
       "<div>\n",
       "<style scoped>\n",
       "    .dataframe tbody tr th:only-of-type {\n",
       "        vertical-align: middle;\n",
       "    }\n",
       "\n",
       "    .dataframe tbody tr th {\n",
       "        vertical-align: top;\n",
       "    }\n",
       "\n",
       "    .dataframe thead th {\n",
       "        text-align: right;\n",
       "    }\n",
       "</style>\n",
       "<table border=\"1\" class=\"dataframe\">\n",
       "  <thead>\n",
       "    <tr style=\"text-align: right;\">\n",
       "      <th></th>\n",
       "      <th>user_id</th>\n",
       "      <th>game_start</th>\n",
       "      <th>game_stop</th>\n",
       "      <th>level_completed</th>\n",
       "      <th>project_completed</th>\n",
       "      <th>time_for_level</th>\n",
       "      <th>assembly_shop</th>\n",
       "      <th>research_center</th>\n",
       "      <th>spaceport</th>\n",
       "      <th>buildings</th>\n",
       "      <th>source</th>\n",
       "    </tr>\n",
       "  </thead>\n",
       "  <tbody>\n",
       "    <tr>\n",
       "      <th>0</th>\n",
       "      <td>0001f83c-c6ac-4621-b7f0-8a28b283ac30</td>\n",
       "      <td>2020-05-06</td>\n",
       "      <td>2020-05-20</td>\n",
       "      <td>False</td>\n",
       "      <td>False</td>\n",
       "      <td>14</td>\n",
       "      <td>6</td>\n",
       "      <td>1</td>\n",
       "      <td>6</td>\n",
       "      <td>13</td>\n",
       "      <td>facebook_ads</td>\n",
       "    </tr>\n",
       "    <tr>\n",
       "      <th>1</th>\n",
       "      <td>00151b4f-ba38-44a8-a650-d7cf130a0105</td>\n",
       "      <td>2020-05-06</td>\n",
       "      <td>2020-05-18</td>\n",
       "      <td>False</td>\n",
       "      <td>False</td>\n",
       "      <td>12</td>\n",
       "      <td>4</td>\n",
       "      <td>0</td>\n",
       "      <td>5</td>\n",
       "      <td>9</td>\n",
       "      <td>yandex_direct</td>\n",
       "    </tr>\n",
       "    <tr>\n",
       "      <th>2</th>\n",
       "      <td>001aaea6-3d14-43f1-8ca8-7f48820f17aa</td>\n",
       "      <td>2020-05-05</td>\n",
       "      <td>2020-05-14</td>\n",
       "      <td>False</td>\n",
       "      <td>False</td>\n",
       "      <td>9</td>\n",
       "      <td>2</td>\n",
       "      <td>0</td>\n",
       "      <td>2</td>\n",
       "      <td>4</td>\n",
       "      <td>youtube_channel_reklama</td>\n",
       "    </tr>\n",
       "    <tr>\n",
       "      <th>3</th>\n",
       "      <td>001d39dc-366c-4021-9604-6a3b9ff01e25</td>\n",
       "      <td>2020-05-05</td>\n",
       "      <td>2020-05-12</td>\n",
       "      <td>True</td>\n",
       "      <td>False</td>\n",
       "      <td>7</td>\n",
       "      <td>4</td>\n",
       "      <td>0</td>\n",
       "      <td>4</td>\n",
       "      <td>8</td>\n",
       "      <td>instagram_new_adverts</td>\n",
       "    </tr>\n",
       "    <tr>\n",
       "      <th>4</th>\n",
       "      <td>002f508f-67b6-479f-814b-b05f00d4e995</td>\n",
       "      <td>2020-05-05</td>\n",
       "      <td>2020-05-22</td>\n",
       "      <td>False</td>\n",
       "      <td>False</td>\n",
       "      <td>17</td>\n",
       "      <td>3</td>\n",
       "      <td>1</td>\n",
       "      <td>8</td>\n",
       "      <td>12</td>\n",
       "      <td>facebook_ads</td>\n",
       "    </tr>\n",
       "  </tbody>\n",
       "</table>\n",
       "</div>"
      ],
      "text/plain": [
       "                                user_id  game_start   game_stop  \\\n",
       "0  0001f83c-c6ac-4621-b7f0-8a28b283ac30  2020-05-06  2020-05-20   \n",
       "1  00151b4f-ba38-44a8-a650-d7cf130a0105  2020-05-06  2020-05-18   \n",
       "2  001aaea6-3d14-43f1-8ca8-7f48820f17aa  2020-05-05  2020-05-14   \n",
       "3  001d39dc-366c-4021-9604-6a3b9ff01e25  2020-05-05  2020-05-12   \n",
       "4  002f508f-67b6-479f-814b-b05f00d4e995  2020-05-05  2020-05-22   \n",
       "\n",
       "   level_completed  project_completed  time_for_level  assembly_shop  \\\n",
       "0            False              False              14              6   \n",
       "1            False              False              12              4   \n",
       "2            False              False               9              2   \n",
       "3             True              False               7              4   \n",
       "4            False              False              17              3   \n",
       "\n",
       "   research_center  spaceport  buildings                   source  \n",
       "0                1          6         13             facebook_ads  \n",
       "1                0          5          9            yandex_direct  \n",
       "2                0          2          4  youtube_channel_reklama  \n",
       "3                0          4          8    instagram_new_adverts  \n",
       "4                1          8         12             facebook_ads  "
      ]
     },
     "execution_count": 34,
     "metadata": {},
     "output_type": "execute_result"
    }
   ],
   "source": [
    "profiles.head()"
   ]
  },
  {
   "cell_type": "markdown",
   "metadata": {},
   "source": [
    "Теперь можем добавить затраты на рекламу из ad_cost и посчитать **стоимость привлечения каждого пользователя**\n",
    "\n",
    "В таблице ad_cost лежат затраты на рекламу, которая привела пользователей на след.день. Границы дат с 3.05 по 9.05. Поэтому чтобы корректно слить таблицы, надо прибавить один день в затратах рекламы"
   ]
  },
  {
   "cell_type": "code",
   "execution_count": 35,
   "metadata": {},
   "outputs": [
    {
     "name": "stdout",
     "output_type": "stream",
     "text": [
      "2020-05-03\n",
      "2020-05-09\n"
     ]
    }
   ],
   "source": [
    "print(ad_costs['day'].min())\n",
    "print(ad_costs['day'].max())"
   ]
  },
  {
   "cell_type": "code",
   "execution_count": 36,
   "metadata": {},
   "outputs": [
    {
     "data": {
      "text/html": [
       "<div>\n",
       "<style scoped>\n",
       "    .dataframe tbody tr th:only-of-type {\n",
       "        vertical-align: middle;\n",
       "    }\n",
       "\n",
       "    .dataframe tbody tr th {\n",
       "        vertical-align: top;\n",
       "    }\n",
       "\n",
       "    .dataframe thead th {\n",
       "        text-align: right;\n",
       "    }\n",
       "</style>\n",
       "<table border=\"1\" class=\"dataframe\">\n",
       "  <thead>\n",
       "    <tr style=\"text-align: right;\">\n",
       "      <th></th>\n",
       "      <th>source</th>\n",
       "      <th>day</th>\n",
       "      <th>cost</th>\n",
       "      <th>user_day</th>\n",
       "    </tr>\n",
       "  </thead>\n",
       "  <tbody>\n",
       "    <tr>\n",
       "      <th>0</th>\n",
       "      <td>facebook_ads</td>\n",
       "      <td>2020-05-03</td>\n",
       "      <td>935.882786</td>\n",
       "      <td>2020-05-04</td>\n",
       "    </tr>\n",
       "    <tr>\n",
       "      <th>1</th>\n",
       "      <td>facebook_ads</td>\n",
       "      <td>2020-05-04</td>\n",
       "      <td>548.354480</td>\n",
       "      <td>2020-05-05</td>\n",
       "    </tr>\n",
       "    <tr>\n",
       "      <th>2</th>\n",
       "      <td>facebook_ads</td>\n",
       "      <td>2020-05-05</td>\n",
       "      <td>260.185754</td>\n",
       "      <td>2020-05-06</td>\n",
       "    </tr>\n",
       "    <tr>\n",
       "      <th>3</th>\n",
       "      <td>facebook_ads</td>\n",
       "      <td>2020-05-06</td>\n",
       "      <td>177.982200</td>\n",
       "      <td>2020-05-07</td>\n",
       "    </tr>\n",
       "    <tr>\n",
       "      <th>4</th>\n",
       "      <td>facebook_ads</td>\n",
       "      <td>2020-05-07</td>\n",
       "      <td>111.766796</td>\n",
       "      <td>2020-05-08</td>\n",
       "    </tr>\n",
       "  </tbody>\n",
       "</table>\n",
       "</div>"
      ],
      "text/plain": [
       "         source         day        cost    user_day\n",
       "0  facebook_ads  2020-05-03  935.882786  2020-05-04\n",
       "1  facebook_ads  2020-05-04  548.354480  2020-05-05\n",
       "2  facebook_ads  2020-05-05  260.185754  2020-05-06\n",
       "3  facebook_ads  2020-05-06  177.982200  2020-05-07\n",
       "4  facebook_ads  2020-05-07  111.766796  2020-05-08"
      ]
     },
     "execution_count": 36,
     "metadata": {},
     "output_type": "execute_result"
    }
   ],
   "source": [
    "ad_costs['user_day'] = ad_costs['day'] + pd.Timedelta(days=1)\n",
    "ad_costs.head()"
   ]
  },
  {
   "cell_type": "code",
   "execution_count": 37,
   "metadata": {},
   "outputs": [],
   "source": [
    "profiles = profiles.merge(ad_costs, left_on=['game_start', 'source'], right_on=['user_day', 'source'], how='left')"
   ]
  },
  {
   "cell_type": "code",
   "execution_count": 38,
   "metadata": {},
   "outputs": [
    {
     "data": {
      "text/html": [
       "<div>\n",
       "<style scoped>\n",
       "    .dataframe tbody tr th:only-of-type {\n",
       "        vertical-align: middle;\n",
       "    }\n",
       "\n",
       "    .dataframe tbody tr th {\n",
       "        vertical-align: top;\n",
       "    }\n",
       "\n",
       "    .dataframe thead th {\n",
       "        text-align: right;\n",
       "    }\n",
       "</style>\n",
       "<table border=\"1\" class=\"dataframe\">\n",
       "  <thead>\n",
       "    <tr style=\"text-align: right;\">\n",
       "      <th></th>\n",
       "      <th>user_id</th>\n",
       "      <th>game_start</th>\n",
       "      <th>game_stop</th>\n",
       "      <th>level_completed</th>\n",
       "      <th>project_completed</th>\n",
       "      <th>time_for_level</th>\n",
       "      <th>assembly_shop</th>\n",
       "      <th>research_center</th>\n",
       "      <th>spaceport</th>\n",
       "      <th>buildings</th>\n",
       "      <th>source</th>\n",
       "      <th>day</th>\n",
       "      <th>cost</th>\n",
       "      <th>user_day</th>\n",
       "    </tr>\n",
       "  </thead>\n",
       "  <tbody>\n",
       "    <tr>\n",
       "      <th>0</th>\n",
       "      <td>0001f83c-c6ac-4621-b7f0-8a28b283ac30</td>\n",
       "      <td>2020-05-06</td>\n",
       "      <td>2020-05-20</td>\n",
       "      <td>False</td>\n",
       "      <td>False</td>\n",
       "      <td>14</td>\n",
       "      <td>6</td>\n",
       "      <td>1</td>\n",
       "      <td>6</td>\n",
       "      <td>13</td>\n",
       "      <td>facebook_ads</td>\n",
       "      <td>2020-05-05</td>\n",
       "      <td>260.185754</td>\n",
       "      <td>2020-05-06</td>\n",
       "    </tr>\n",
       "    <tr>\n",
       "      <th>1</th>\n",
       "      <td>00151b4f-ba38-44a8-a650-d7cf130a0105</td>\n",
       "      <td>2020-05-06</td>\n",
       "      <td>2020-05-18</td>\n",
       "      <td>False</td>\n",
       "      <td>False</td>\n",
       "      <td>12</td>\n",
       "      <td>4</td>\n",
       "      <td>0</td>\n",
       "      <td>5</td>\n",
       "      <td>9</td>\n",
       "      <td>yandex_direct</td>\n",
       "      <td>2020-05-05</td>\n",
       "      <td>308.232990</td>\n",
       "      <td>2020-05-06</td>\n",
       "    </tr>\n",
       "    <tr>\n",
       "      <th>2</th>\n",
       "      <td>001aaea6-3d14-43f1-8ca8-7f48820f17aa</td>\n",
       "      <td>2020-05-05</td>\n",
       "      <td>2020-05-14</td>\n",
       "      <td>False</td>\n",
       "      <td>False</td>\n",
       "      <td>9</td>\n",
       "      <td>2</td>\n",
       "      <td>0</td>\n",
       "      <td>2</td>\n",
       "      <td>4</td>\n",
       "      <td>youtube_channel_reklama</td>\n",
       "      <td>2020-05-04</td>\n",
       "      <td>259.073224</td>\n",
       "      <td>2020-05-05</td>\n",
       "    </tr>\n",
       "    <tr>\n",
       "      <th>3</th>\n",
       "      <td>001d39dc-366c-4021-9604-6a3b9ff01e25</td>\n",
       "      <td>2020-05-05</td>\n",
       "      <td>2020-05-12</td>\n",
       "      <td>True</td>\n",
       "      <td>False</td>\n",
       "      <td>7</td>\n",
       "      <td>4</td>\n",
       "      <td>0</td>\n",
       "      <td>4</td>\n",
       "      <td>8</td>\n",
       "      <td>instagram_new_adverts</td>\n",
       "      <td>2020-05-04</td>\n",
       "      <td>502.925451</td>\n",
       "      <td>2020-05-05</td>\n",
       "    </tr>\n",
       "    <tr>\n",
       "      <th>4</th>\n",
       "      <td>002f508f-67b6-479f-814b-b05f00d4e995</td>\n",
       "      <td>2020-05-05</td>\n",
       "      <td>2020-05-22</td>\n",
       "      <td>False</td>\n",
       "      <td>False</td>\n",
       "      <td>17</td>\n",
       "      <td>3</td>\n",
       "      <td>1</td>\n",
       "      <td>8</td>\n",
       "      <td>12</td>\n",
       "      <td>facebook_ads</td>\n",
       "      <td>2020-05-04</td>\n",
       "      <td>548.354480</td>\n",
       "      <td>2020-05-05</td>\n",
       "    </tr>\n",
       "  </tbody>\n",
       "</table>\n",
       "</div>"
      ],
      "text/plain": [
       "                                user_id  game_start   game_stop  \\\n",
       "0  0001f83c-c6ac-4621-b7f0-8a28b283ac30  2020-05-06  2020-05-20   \n",
       "1  00151b4f-ba38-44a8-a650-d7cf130a0105  2020-05-06  2020-05-18   \n",
       "2  001aaea6-3d14-43f1-8ca8-7f48820f17aa  2020-05-05  2020-05-14   \n",
       "3  001d39dc-366c-4021-9604-6a3b9ff01e25  2020-05-05  2020-05-12   \n",
       "4  002f508f-67b6-479f-814b-b05f00d4e995  2020-05-05  2020-05-22   \n",
       "\n",
       "   level_completed  project_completed  time_for_level  assembly_shop  \\\n",
       "0            False              False              14              6   \n",
       "1            False              False              12              4   \n",
       "2            False              False               9              2   \n",
       "3             True              False               7              4   \n",
       "4            False              False              17              3   \n",
       "\n",
       "   research_center  spaceport  buildings                   source         day  \\\n",
       "0                1          6         13             facebook_ads  2020-05-05   \n",
       "1                0          5          9            yandex_direct  2020-05-05   \n",
       "2                0          2          4  youtube_channel_reklama  2020-05-04   \n",
       "3                0          4          8    instagram_new_adverts  2020-05-04   \n",
       "4                1          8         12             facebook_ads  2020-05-04   \n",
       "\n",
       "         cost    user_day  \n",
       "0  260.185754  2020-05-06  \n",
       "1  308.232990  2020-05-06  \n",
       "2  259.073224  2020-05-05  \n",
       "3  502.925451  2020-05-05  \n",
       "4  548.354480  2020-05-05  "
      ]
     },
     "execution_count": 38,
     "metadata": {},
     "output_type": "execute_result"
    }
   ],
   "source": [
    "profiles.head()"
   ]
  },
  {
   "cell_type": "markdown",
   "metadata": {},
   "source": [
    "Посчитаем количество уникальных пользователей для каждого дня"
   ]
  },
  {
   "cell_type": "code",
   "execution_count": 39,
   "metadata": {},
   "outputs": [],
   "source": [
    "unique_users = (\n",
    "    profiles.groupby(by=['game_start', 'source'])['user_id'].count()\n",
    "    .reset_index()\n",
    "    .rename(columns={'user_id': 'unique_users'})\n",
    ")"
   ]
  },
  {
   "cell_type": "code",
   "execution_count": 40,
   "metadata": {},
   "outputs": [
    {
     "data": {
      "text/html": [
       "<div>\n",
       "<style scoped>\n",
       "    .dataframe tbody tr th:only-of-type {\n",
       "        vertical-align: middle;\n",
       "    }\n",
       "\n",
       "    .dataframe tbody tr th {\n",
       "        vertical-align: top;\n",
       "    }\n",
       "\n",
       "    .dataframe thead th {\n",
       "        text-align: right;\n",
       "    }\n",
       "</style>\n",
       "<table border=\"1\" class=\"dataframe\">\n",
       "  <thead>\n",
       "    <tr style=\"text-align: right;\">\n",
       "      <th></th>\n",
       "      <th>game_start</th>\n",
       "      <th>source</th>\n",
       "      <th>unique_users</th>\n",
       "    </tr>\n",
       "  </thead>\n",
       "  <tbody>\n",
       "    <tr>\n",
       "      <th>0</th>\n",
       "      <td>2020-05-04</td>\n",
       "      <td>facebook_ads</td>\n",
       "      <td>1184</td>\n",
       "    </tr>\n",
       "    <tr>\n",
       "      <th>1</th>\n",
       "      <td>2020-05-04</td>\n",
       "      <td>instagram_new_adverts</td>\n",
       "      <td>1452</td>\n",
       "    </tr>\n",
       "    <tr>\n",
       "      <th>2</th>\n",
       "      <td>2020-05-04</td>\n",
       "      <td>yandex_direct</td>\n",
       "      <td>2078</td>\n",
       "    </tr>\n",
       "    <tr>\n",
       "      <th>3</th>\n",
       "      <td>2020-05-04</td>\n",
       "      <td>youtube_channel_reklama</td>\n",
       "      <td>1146</td>\n",
       "    </tr>\n",
       "    <tr>\n",
       "      <th>4</th>\n",
       "      <td>2020-05-05</td>\n",
       "      <td>facebook_ads</td>\n",
       "      <td>694</td>\n",
       "    </tr>\n",
       "  </tbody>\n",
       "</table>\n",
       "</div>"
      ],
      "text/plain": [
       "   game_start                   source  unique_users\n",
       "0  2020-05-04             facebook_ads          1184\n",
       "1  2020-05-04    instagram_new_adverts          1452\n",
       "2  2020-05-04            yandex_direct          2078\n",
       "3  2020-05-04  youtube_channel_reklama          1146\n",
       "4  2020-05-05             facebook_ads           694"
      ]
     },
     "execution_count": 40,
     "metadata": {},
     "output_type": "execute_result"
    }
   ],
   "source": [
    "unique_users.head()"
   ]
  },
  {
   "cell_type": "markdown",
   "metadata": {},
   "source": [
    "Теперь можем соединить уникальных пользователей с освновной таблицей профидлей и посчитать стоимость привлечения для каждого пользователя"
   ]
  },
  {
   "cell_type": "code",
   "execution_count": 41,
   "metadata": {},
   "outputs": [],
   "source": [
    "profiles = profiles.merge(unique_users, on=['game_start', 'source'], how='left')"
   ]
  },
  {
   "cell_type": "code",
   "execution_count": 42,
   "metadata": {},
   "outputs": [],
   "source": [
    "profiles['acquisition_cost'] = profiles['cost'] / profiles['unique_users']"
   ]
  },
  {
   "cell_type": "code",
   "execution_count": 43,
   "metadata": {},
   "outputs": [
    {
     "data": {
      "text/html": [
       "<div>\n",
       "<style scoped>\n",
       "    .dataframe tbody tr th:only-of-type {\n",
       "        vertical-align: middle;\n",
       "    }\n",
       "\n",
       "    .dataframe tbody tr th {\n",
       "        vertical-align: top;\n",
       "    }\n",
       "\n",
       "    .dataframe thead th {\n",
       "        text-align: right;\n",
       "    }\n",
       "</style>\n",
       "<table border=\"1\" class=\"dataframe\">\n",
       "  <thead>\n",
       "    <tr style=\"text-align: right;\">\n",
       "      <th></th>\n",
       "      <th>user_id</th>\n",
       "      <th>game_start</th>\n",
       "      <th>game_stop</th>\n",
       "      <th>level_completed</th>\n",
       "      <th>project_completed</th>\n",
       "      <th>time_for_level</th>\n",
       "      <th>assembly_shop</th>\n",
       "      <th>research_center</th>\n",
       "      <th>spaceport</th>\n",
       "      <th>buildings</th>\n",
       "      <th>source</th>\n",
       "      <th>day</th>\n",
       "      <th>cost</th>\n",
       "      <th>user_day</th>\n",
       "      <th>unique_users</th>\n",
       "      <th>acquisition_cost</th>\n",
       "    </tr>\n",
       "  </thead>\n",
       "  <tbody>\n",
       "    <tr>\n",
       "      <th>0</th>\n",
       "      <td>0001f83c-c6ac-4621-b7f0-8a28b283ac30</td>\n",
       "      <td>2020-05-06</td>\n",
       "      <td>2020-05-20</td>\n",
       "      <td>False</td>\n",
       "      <td>False</td>\n",
       "      <td>14</td>\n",
       "      <td>6</td>\n",
       "      <td>1</td>\n",
       "      <td>6</td>\n",
       "      <td>13</td>\n",
       "      <td>facebook_ads</td>\n",
       "      <td>2020-05-05</td>\n",
       "      <td>260.185754</td>\n",
       "      <td>2020-05-06</td>\n",
       "      <td>345</td>\n",
       "      <td>0.754162</td>\n",
       "    </tr>\n",
       "    <tr>\n",
       "      <th>1</th>\n",
       "      <td>00151b4f-ba38-44a8-a650-d7cf130a0105</td>\n",
       "      <td>2020-05-06</td>\n",
       "      <td>2020-05-18</td>\n",
       "      <td>False</td>\n",
       "      <td>False</td>\n",
       "      <td>12</td>\n",
       "      <td>4</td>\n",
       "      <td>0</td>\n",
       "      <td>5</td>\n",
       "      <td>9</td>\n",
       "      <td>yandex_direct</td>\n",
       "      <td>2020-05-05</td>\n",
       "      <td>308.232990</td>\n",
       "      <td>2020-05-06</td>\n",
       "      <td>664</td>\n",
       "      <td>0.464206</td>\n",
       "    </tr>\n",
       "    <tr>\n",
       "      <th>2</th>\n",
       "      <td>001aaea6-3d14-43f1-8ca8-7f48820f17aa</td>\n",
       "      <td>2020-05-05</td>\n",
       "      <td>2020-05-14</td>\n",
       "      <td>False</td>\n",
       "      <td>False</td>\n",
       "      <td>9</td>\n",
       "      <td>2</td>\n",
       "      <td>0</td>\n",
       "      <td>2</td>\n",
       "      <td>4</td>\n",
       "      <td>youtube_channel_reklama</td>\n",
       "      <td>2020-05-04</td>\n",
       "      <td>259.073224</td>\n",
       "      <td>2020-05-05</td>\n",
       "      <td>663</td>\n",
       "      <td>0.390759</td>\n",
       "    </tr>\n",
       "    <tr>\n",
       "      <th>3</th>\n",
       "      <td>001d39dc-366c-4021-9604-6a3b9ff01e25</td>\n",
       "      <td>2020-05-05</td>\n",
       "      <td>2020-05-12</td>\n",
       "      <td>True</td>\n",
       "      <td>False</td>\n",
       "      <td>7</td>\n",
       "      <td>4</td>\n",
       "      <td>0</td>\n",
       "      <td>4</td>\n",
       "      <td>8</td>\n",
       "      <td>instagram_new_adverts</td>\n",
       "      <td>2020-05-04</td>\n",
       "      <td>502.925451</td>\n",
       "      <td>2020-05-05</td>\n",
       "      <td>796</td>\n",
       "      <td>0.631816</td>\n",
       "    </tr>\n",
       "    <tr>\n",
       "      <th>4</th>\n",
       "      <td>002f508f-67b6-479f-814b-b05f00d4e995</td>\n",
       "      <td>2020-05-05</td>\n",
       "      <td>2020-05-22</td>\n",
       "      <td>False</td>\n",
       "      <td>False</td>\n",
       "      <td>17</td>\n",
       "      <td>3</td>\n",
       "      <td>1</td>\n",
       "      <td>8</td>\n",
       "      <td>12</td>\n",
       "      <td>facebook_ads</td>\n",
       "      <td>2020-05-04</td>\n",
       "      <td>548.354480</td>\n",
       "      <td>2020-05-05</td>\n",
       "      <td>694</td>\n",
       "      <td>0.790136</td>\n",
       "    </tr>\n",
       "  </tbody>\n",
       "</table>\n",
       "</div>"
      ],
      "text/plain": [
       "                                user_id  game_start   game_stop  \\\n",
       "0  0001f83c-c6ac-4621-b7f0-8a28b283ac30  2020-05-06  2020-05-20   \n",
       "1  00151b4f-ba38-44a8-a650-d7cf130a0105  2020-05-06  2020-05-18   \n",
       "2  001aaea6-3d14-43f1-8ca8-7f48820f17aa  2020-05-05  2020-05-14   \n",
       "3  001d39dc-366c-4021-9604-6a3b9ff01e25  2020-05-05  2020-05-12   \n",
       "4  002f508f-67b6-479f-814b-b05f00d4e995  2020-05-05  2020-05-22   \n",
       "\n",
       "   level_completed  project_completed  time_for_level  assembly_shop  \\\n",
       "0            False              False              14              6   \n",
       "1            False              False              12              4   \n",
       "2            False              False               9              2   \n",
       "3             True              False               7              4   \n",
       "4            False              False              17              3   \n",
       "\n",
       "   research_center  spaceport  buildings                   source         day  \\\n",
       "0                1          6         13             facebook_ads  2020-05-05   \n",
       "1                0          5          9            yandex_direct  2020-05-05   \n",
       "2                0          2          4  youtube_channel_reklama  2020-05-04   \n",
       "3                0          4          8    instagram_new_adverts  2020-05-04   \n",
       "4                1          8         12             facebook_ads  2020-05-04   \n",
       "\n",
       "         cost    user_day  unique_users  acquisition_cost  \n",
       "0  260.185754  2020-05-06           345          0.754162  \n",
       "1  308.232990  2020-05-06           664          0.464206  \n",
       "2  259.073224  2020-05-05           663          0.390759  \n",
       "3  502.925451  2020-05-05           796          0.631816  \n",
       "4  548.354480  2020-05-05           694          0.790136  "
      ]
     },
     "execution_count": 43,
     "metadata": {},
     "output_type": "execute_result"
    }
   ],
   "source": [
    "profiles.head()"
   ]
  },
  {
   "cell_type": "markdown",
   "metadata": {},
   "source": [
    "Теперь удалим все лишние столбцы"
   ]
  },
  {
   "cell_type": "code",
   "execution_count": 44,
   "metadata": {},
   "outputs": [],
   "source": [
    "profiles = profiles.drop(columns=['day', 'user_day', 'cost','unique_users'])"
   ]
  },
  {
   "cell_type": "markdown",
   "metadata": {},
   "source": [
    "Получили готовые профили, ура"
   ]
  },
  {
   "cell_type": "code",
   "execution_count": 45,
   "metadata": {},
   "outputs": [
    {
     "data": {
      "text/html": [
       "<div>\n",
       "<style scoped>\n",
       "    .dataframe tbody tr th:only-of-type {\n",
       "        vertical-align: middle;\n",
       "    }\n",
       "\n",
       "    .dataframe tbody tr th {\n",
       "        vertical-align: top;\n",
       "    }\n",
       "\n",
       "    .dataframe thead th {\n",
       "        text-align: right;\n",
       "    }\n",
       "</style>\n",
       "<table border=\"1\" class=\"dataframe\">\n",
       "  <thead>\n",
       "    <tr style=\"text-align: right;\">\n",
       "      <th></th>\n",
       "      <th>user_id</th>\n",
       "      <th>game_start</th>\n",
       "      <th>game_stop</th>\n",
       "      <th>level_completed</th>\n",
       "      <th>project_completed</th>\n",
       "      <th>time_for_level</th>\n",
       "      <th>assembly_shop</th>\n",
       "      <th>research_center</th>\n",
       "      <th>spaceport</th>\n",
       "      <th>buildings</th>\n",
       "      <th>source</th>\n",
       "      <th>acquisition_cost</th>\n",
       "    </tr>\n",
       "  </thead>\n",
       "  <tbody>\n",
       "    <tr>\n",
       "      <th>0</th>\n",
       "      <td>0001f83c-c6ac-4621-b7f0-8a28b283ac30</td>\n",
       "      <td>2020-05-06</td>\n",
       "      <td>2020-05-20</td>\n",
       "      <td>False</td>\n",
       "      <td>False</td>\n",
       "      <td>14</td>\n",
       "      <td>6</td>\n",
       "      <td>1</td>\n",
       "      <td>6</td>\n",
       "      <td>13</td>\n",
       "      <td>facebook_ads</td>\n",
       "      <td>0.754162</td>\n",
       "    </tr>\n",
       "    <tr>\n",
       "      <th>1</th>\n",
       "      <td>00151b4f-ba38-44a8-a650-d7cf130a0105</td>\n",
       "      <td>2020-05-06</td>\n",
       "      <td>2020-05-18</td>\n",
       "      <td>False</td>\n",
       "      <td>False</td>\n",
       "      <td>12</td>\n",
       "      <td>4</td>\n",
       "      <td>0</td>\n",
       "      <td>5</td>\n",
       "      <td>9</td>\n",
       "      <td>yandex_direct</td>\n",
       "      <td>0.464206</td>\n",
       "    </tr>\n",
       "    <tr>\n",
       "      <th>2</th>\n",
       "      <td>001aaea6-3d14-43f1-8ca8-7f48820f17aa</td>\n",
       "      <td>2020-05-05</td>\n",
       "      <td>2020-05-14</td>\n",
       "      <td>False</td>\n",
       "      <td>False</td>\n",
       "      <td>9</td>\n",
       "      <td>2</td>\n",
       "      <td>0</td>\n",
       "      <td>2</td>\n",
       "      <td>4</td>\n",
       "      <td>youtube_channel_reklama</td>\n",
       "      <td>0.390759</td>\n",
       "    </tr>\n",
       "    <tr>\n",
       "      <th>3</th>\n",
       "      <td>001d39dc-366c-4021-9604-6a3b9ff01e25</td>\n",
       "      <td>2020-05-05</td>\n",
       "      <td>2020-05-12</td>\n",
       "      <td>True</td>\n",
       "      <td>False</td>\n",
       "      <td>7</td>\n",
       "      <td>4</td>\n",
       "      <td>0</td>\n",
       "      <td>4</td>\n",
       "      <td>8</td>\n",
       "      <td>instagram_new_adverts</td>\n",
       "      <td>0.631816</td>\n",
       "    </tr>\n",
       "    <tr>\n",
       "      <th>4</th>\n",
       "      <td>002f508f-67b6-479f-814b-b05f00d4e995</td>\n",
       "      <td>2020-05-05</td>\n",
       "      <td>2020-05-22</td>\n",
       "      <td>False</td>\n",
       "      <td>False</td>\n",
       "      <td>17</td>\n",
       "      <td>3</td>\n",
       "      <td>1</td>\n",
       "      <td>8</td>\n",
       "      <td>12</td>\n",
       "      <td>facebook_ads</td>\n",
       "      <td>0.790136</td>\n",
       "    </tr>\n",
       "  </tbody>\n",
       "</table>\n",
       "</div>"
      ],
      "text/plain": [
       "                                user_id  game_start   game_stop  \\\n",
       "0  0001f83c-c6ac-4621-b7f0-8a28b283ac30  2020-05-06  2020-05-20   \n",
       "1  00151b4f-ba38-44a8-a650-d7cf130a0105  2020-05-06  2020-05-18   \n",
       "2  001aaea6-3d14-43f1-8ca8-7f48820f17aa  2020-05-05  2020-05-14   \n",
       "3  001d39dc-366c-4021-9604-6a3b9ff01e25  2020-05-05  2020-05-12   \n",
       "4  002f508f-67b6-479f-814b-b05f00d4e995  2020-05-05  2020-05-22   \n",
       "\n",
       "   level_completed  project_completed  time_for_level  assembly_shop  \\\n",
       "0            False              False              14              6   \n",
       "1            False              False              12              4   \n",
       "2            False              False               9              2   \n",
       "3             True              False               7              4   \n",
       "4            False              False              17              3   \n",
       "\n",
       "   research_center  spaceport  buildings                   source  \\\n",
       "0                1          6         13             facebook_ads   \n",
       "1                0          5          9            yandex_direct   \n",
       "2                0          2          4  youtube_channel_reklama   \n",
       "3                0          4          8    instagram_new_adverts   \n",
       "4                1          8         12             facebook_ads   \n",
       "\n",
       "   acquisition_cost  \n",
       "0          0.754162  \n",
       "1          0.464206  \n",
       "2          0.390759  \n",
       "3          0.631816  \n",
       "4          0.790136  "
      ]
     },
     "execution_count": 45,
     "metadata": {},
     "output_type": "execute_result"
    }
   ],
   "source": [
    "profiles.head()"
   ]
  },
  {
   "cell_type": "code",
   "execution_count": 46,
   "metadata": {},
   "outputs": [
    {
     "name": "stdout",
     "output_type": "stream",
     "text": [
      "<class 'pandas.core.frame.DataFrame'>\n",
      "Int64Index: 13576 entries, 0 to 13575\n",
      "Data columns (total 12 columns):\n",
      " #   Column             Non-Null Count  Dtype  \n",
      "---  ------             --------------  -----  \n",
      " 0   user_id            13576 non-null  object \n",
      " 1   game_start         13576 non-null  object \n",
      " 2   game_stop          13576 non-null  object \n",
      " 3   level_completed    13576 non-null  bool   \n",
      " 4   project_completed  13576 non-null  bool   \n",
      " 5   time_for_level     13576 non-null  int64  \n",
      " 6   assembly_shop      13576 non-null  int64  \n",
      " 7   research_center    13576 non-null  int64  \n",
      " 8   spaceport          13576 non-null  int64  \n",
      " 9   buildings          13576 non-null  int64  \n",
      " 10  source             13576 non-null  object \n",
      " 11  acquisition_cost   13576 non-null  float64\n",
      "dtypes: bool(2), float64(1), int64(5), object(4)\n",
      "memory usage: 1.2+ MB\n"
     ]
    }
   ],
   "source": [
    "profiles.info()"
   ]
  },
  {
   "cell_type": "markdown",
   "metadata": {},
   "source": [
    "###  Распределение по способу прохождения уровня\n",
    "Посмотрим, какой способ прохождение уровня самый популярный"
   ]
  },
  {
   "cell_type": "code",
   "execution_count": 47,
   "metadata": {},
   "outputs": [
    {
     "data": {
      "image/png": "[encoded data removed]",
      "text/plain": [
       "<Figure size 432x432 with 1 Axes>"
      ]
     },
     "metadata": {},
     "output_type": "display_data"
    }
   ],
   "source": [
    "colors = sns.color_palette('deep')[0:2]\n",
    "plt.figure(figsize=(6,6))\n",
    "chart = plt.pie(x=profiles.query('level_completed == True').groupby(by='project_completed')['user_id'].count(), \n",
    "                labels=['Победа над врагом', 'Реализация проекта'], colors=colors, autopct='%.0f%%')\n",
    "text = plt.title('Распределение по способу прохождения уровня')"
   ]
  },
  {
   "cell_type": "markdown",
   "metadata": {},
   "source": [
    "Выяснили, что прохождение через победу более популярно примерно в два раза"
   ]
  },
  {
   "cell_type": "markdown",
   "metadata": {},
   "source": [
    "## Анализ источников рекламы\n",
    "\n",
    "Для анализа источников построим следующие графики:\n",
    "* сколько пользователей приходило с каждого источника\n",
    "* сколько тратилось на одного привлечение одного плоьзователя \n",
    "* затраты на рекламу\n",
    "\n",
    "Для подсчета пользователей сгруппируем профили по дате и источнику"
   ]
  },
  {
   "cell_type": "code",
   "execution_count": 48,
   "metadata": {
    "scrolled": true
   },
   "outputs": [
    {
     "data": {
      "text/html": [
       "<div>\n",
       "<style scoped>\n",
       "    .dataframe tbody tr th:only-of-type {\n",
       "        vertical-align: middle;\n",
       "    }\n",
       "\n",
       "    .dataframe tbody tr th {\n",
       "        vertical-align: top;\n",
       "    }\n",
       "\n",
       "    .dataframe thead th {\n",
       "        text-align: right;\n",
       "    }\n",
       "</style>\n",
       "<table border=\"1\" class=\"dataframe\">\n",
       "  <thead>\n",
       "    <tr style=\"text-align: right;\">\n",
       "      <th></th>\n",
       "      <th>game_start</th>\n",
       "      <th>source</th>\n",
       "      <th>user_id</th>\n",
       "      <th>game_stop</th>\n",
       "      <th>level_completed</th>\n",
       "      <th>project_completed</th>\n",
       "      <th>time_for_level</th>\n",
       "      <th>assembly_shop</th>\n",
       "      <th>research_center</th>\n",
       "      <th>spaceport</th>\n",
       "      <th>buildings</th>\n",
       "      <th>acquisition_cost</th>\n",
       "    </tr>\n",
       "  </thead>\n",
       "  <tbody>\n",
       "    <tr>\n",
       "      <th>0</th>\n",
       "      <td>2020-05-04</td>\n",
       "      <td>facebook_ads</td>\n",
       "      <td>1184</td>\n",
       "      <td>1184</td>\n",
       "      <td>1184</td>\n",
       "      <td>1184</td>\n",
       "      <td>1184</td>\n",
       "      <td>1184</td>\n",
       "      <td>1184</td>\n",
       "      <td>1184</td>\n",
       "      <td>1184</td>\n",
       "      <td>1184</td>\n",
       "    </tr>\n",
       "    <tr>\n",
       "      <th>1</th>\n",
       "      <td>2020-05-04</td>\n",
       "      <td>instagram_new_adverts</td>\n",
       "      <td>1452</td>\n",
       "      <td>1452</td>\n",
       "      <td>1452</td>\n",
       "      <td>1452</td>\n",
       "      <td>1452</td>\n",
       "      <td>1452</td>\n",
       "      <td>1452</td>\n",
       "      <td>1452</td>\n",
       "      <td>1452</td>\n",
       "      <td>1452</td>\n",
       "    </tr>\n",
       "    <tr>\n",
       "      <th>2</th>\n",
       "      <td>2020-05-04</td>\n",
       "      <td>yandex_direct</td>\n",
       "      <td>2078</td>\n",
       "      <td>2078</td>\n",
       "      <td>2078</td>\n",
       "      <td>2078</td>\n",
       "      <td>2078</td>\n",
       "      <td>2078</td>\n",
       "      <td>2078</td>\n",
       "      <td>2078</td>\n",
       "      <td>2078</td>\n",
       "      <td>2078</td>\n",
       "    </tr>\n",
       "    <tr>\n",
       "      <th>3</th>\n",
       "      <td>2020-05-04</td>\n",
       "      <td>youtube_channel_reklama</td>\n",
       "      <td>1146</td>\n",
       "      <td>1146</td>\n",
       "      <td>1146</td>\n",
       "      <td>1146</td>\n",
       "      <td>1146</td>\n",
       "      <td>1146</td>\n",
       "      <td>1146</td>\n",
       "      <td>1146</td>\n",
       "      <td>1146</td>\n",
       "      <td>1146</td>\n",
       "    </tr>\n",
       "    <tr>\n",
       "      <th>4</th>\n",
       "      <td>2020-05-05</td>\n",
       "      <td>facebook_ads</td>\n",
       "      <td>694</td>\n",
       "      <td>694</td>\n",
       "      <td>694</td>\n",
       "      <td>694</td>\n",
       "      <td>694</td>\n",
       "      <td>694</td>\n",
       "      <td>694</td>\n",
       "      <td>694</td>\n",
       "      <td>694</td>\n",
       "      <td>694</td>\n",
       "    </tr>\n",
       "  </tbody>\n",
       "</table>\n",
       "</div>"
      ],
      "text/plain": [
       "   game_start                   source  user_id  game_stop  level_completed  \\\n",
       "0  2020-05-04             facebook_ads     1184       1184             1184   \n",
       "1  2020-05-04    instagram_new_adverts     1452       1452             1452   \n",
       "2  2020-05-04            yandex_direct     2078       2078             2078   \n",
       "3  2020-05-04  youtube_channel_reklama     1146       1146             1146   \n",
       "4  2020-05-05             facebook_ads      694        694              694   \n",
       "\n",
       "   project_completed  time_for_level  assembly_shop  research_center  \\\n",
       "0               1184            1184           1184             1184   \n",
       "1               1452            1452           1452             1452   \n",
       "2               2078            2078           2078             2078   \n",
       "3               1146            1146           1146             1146   \n",
       "4                694             694            694              694   \n",
       "\n",
       "   spaceport  buildings  acquisition_cost  \n",
       "0       1184       1184              1184  \n",
       "1       1452       1452              1452  \n",
       "2       2078       2078              2078  \n",
       "3       1146       1146              1146  \n",
       "4        694        694               694  "
      ]
     },
     "execution_count": 48,
     "metadata": {},
     "output_type": "execute_result"
    }
   ],
   "source": [
    "date_source_count_groupby = profiles.groupby(by=['game_start', 'source']).count().reset_index()\n",
    "date_source_count_groupby.head()"
   ]
  },
  {
   "cell_type": "markdown",
   "metadata": {},
   "source": [
    "Для подсчета трат на одного плоьзователя применим такую же группировку, в качестве аггрегирующей функции можем взять медиану (так как внутри блока значения asquisition_cost будут у всех одинаковые, и медиана не изменит это значение)"
   ]
  },
  {
   "cell_type": "code",
   "execution_count": 49,
   "metadata": {},
   "outputs": [
    {
     "data": {
      "text/html": [
       "<div>\n",
       "<style scoped>\n",
       "    .dataframe tbody tr th:only-of-type {\n",
       "        vertical-align: middle;\n",
       "    }\n",
       "\n",
       "    .dataframe tbody tr th {\n",
       "        vertical-align: top;\n",
       "    }\n",
       "\n",
       "    .dataframe thead th {\n",
       "        text-align: right;\n",
       "    }\n",
       "</style>\n",
       "<table border=\"1\" class=\"dataframe\">\n",
       "  <thead>\n",
       "    <tr style=\"text-align: right;\">\n",
       "      <th></th>\n",
       "      <th>game_start</th>\n",
       "      <th>source</th>\n",
       "      <th>level_completed</th>\n",
       "      <th>project_completed</th>\n",
       "      <th>time_for_level</th>\n",
       "      <th>assembly_shop</th>\n",
       "      <th>research_center</th>\n",
       "      <th>spaceport</th>\n",
       "      <th>buildings</th>\n",
       "      <th>acquisition_cost</th>\n",
       "    </tr>\n",
       "  </thead>\n",
       "  <tbody>\n",
       "    <tr>\n",
       "      <th>0</th>\n",
       "      <td>2020-05-04</td>\n",
       "      <td>facebook_ads</td>\n",
       "      <td>False</td>\n",
       "      <td>False</td>\n",
       "      <td>11</td>\n",
       "      <td>5</td>\n",
       "      <td>1</td>\n",
       "      <td>4</td>\n",
       "      <td>11</td>\n",
       "      <td>0.790442</td>\n",
       "    </tr>\n",
       "    <tr>\n",
       "      <th>1</th>\n",
       "      <td>2020-05-04</td>\n",
       "      <td>instagram_new_adverts</td>\n",
       "      <td>False</td>\n",
       "      <td>False</td>\n",
       "      <td>11</td>\n",
       "      <td>5</td>\n",
       "      <td>1</td>\n",
       "      <td>4</td>\n",
       "      <td>11</td>\n",
       "      <td>0.649590</td>\n",
       "    </tr>\n",
       "    <tr>\n",
       "      <th>2</th>\n",
       "      <td>2020-05-04</td>\n",
       "      <td>yandex_direct</td>\n",
       "      <td>False</td>\n",
       "      <td>False</td>\n",
       "      <td>11</td>\n",
       "      <td>5</td>\n",
       "      <td>1</td>\n",
       "      <td>4</td>\n",
       "      <td>10</td>\n",
       "      <td>0.466381</td>\n",
       "    </tr>\n",
       "    <tr>\n",
       "      <th>3</th>\n",
       "      <td>2020-05-04</td>\n",
       "      <td>youtube_channel_reklama</td>\n",
       "      <td>False</td>\n",
       "      <td>False</td>\n",
       "      <td>11</td>\n",
       "      <td>5</td>\n",
       "      <td>1</td>\n",
       "      <td>4</td>\n",
       "      <td>10</td>\n",
       "      <td>0.396357</td>\n",
       "    </tr>\n",
       "    <tr>\n",
       "      <th>4</th>\n",
       "      <td>2020-05-05</td>\n",
       "      <td>facebook_ads</td>\n",
       "      <td>False</td>\n",
       "      <td>False</td>\n",
       "      <td>10</td>\n",
       "      <td>5</td>\n",
       "      <td>1</td>\n",
       "      <td>4</td>\n",
       "      <td>10</td>\n",
       "      <td>0.790136</td>\n",
       "    </tr>\n",
       "  </tbody>\n",
       "</table>\n",
       "</div>"
      ],
      "text/plain": [
       "   game_start                   source  level_completed  project_completed  \\\n",
       "0  2020-05-04             facebook_ads            False              False   \n",
       "1  2020-05-04    instagram_new_adverts            False              False   \n",
       "2  2020-05-04            yandex_direct            False              False   \n",
       "3  2020-05-04  youtube_channel_reklama            False              False   \n",
       "4  2020-05-05             facebook_ads            False              False   \n",
       "\n",
       "   time_for_level  assembly_shop  research_center  spaceport  buildings  \\\n",
       "0              11              5                1          4         11   \n",
       "1              11              5                1          4         11   \n",
       "2              11              5                1          4         10   \n",
       "3              11              5                1          4         10   \n",
       "4              10              5                1          4         10   \n",
       "\n",
       "   acquisition_cost  \n",
       "0          0.790442  \n",
       "1          0.649590  \n",
       "2          0.466381  \n",
       "3          0.396357  \n",
       "4          0.790136  "
      ]
     },
     "execution_count": 49,
     "metadata": {},
     "output_type": "execute_result"
    }
   ],
   "source": [
    "date_source_median_groupby = profiles.groupby(by=['game_start', 'source']).median().reset_index()\n",
    "date_source_median_groupby.head()"
   ]
  },
  {
   "cell_type": "markdown",
   "metadata": {},
   "source": [
    "Для графика затрат у нас уже всё есть в ad_costs\n",
    "\n",
    "Построим эти графики вместе"
   ]
  },
  {
   "cell_type": "code",
   "execution_count": 111,
   "metadata": {},
   "outputs": [
    {
     "data": {
      "image/png": "[encoded data removed]",
      "text/plain": [
       "<Figure size 1152x720 with 4 Axes>"
      ]
     },
     "metadata": {
      "needs_background": "light"
     },
     "output_type": "display_data"
    }
   ],
   "source": [
    "fig, axes = plt.subplots(2, 2, figsize=(16, 10))\n",
    "axes[-1, -1].axis('off') #скрываем последний график четырех, так как нам нужно только три\n",
    "\n",
    "#График числа пользователей\n",
    "sns.lineplot(data= date_source_count_groupby, x='game_start', y='user_id', hue='source', ax=axes[0,0])\n",
    "axes[0,0].grid()\n",
    "axes[0,0].set_title('Распределение числа приведенных пользователей')\n",
    "axes[0,0].set_xlabel('Дата')\n",
    "axes[0,0].set_ylabel('Кол-во пользователей')\n",
    "\n",
    "#График стоимости привлечения одного пользователя\n",
    "sns.lineplot(data= date_source_median_groupby, x='game_start', y='acquisition_cost', hue='source', ax=axes[0, 1])\n",
    "axes[0, 1].grid()\n",
    "axes[0, 1].set_title('Стоимость привлечения одного пользователя')\n",
    "axes[0, 1].set_xlabel('Дата')\n",
    "axes[0, 1].set_ylabel('Стоимость привлечение одного пользователя')\n",
    "\n",
    "#График затрат на рекламу\n",
    "sns.lineplot(data= ad_costs, x='day', y='cost', hue='source', ax=axes[1, 0])\n",
    "axes[1, 0].grid()\n",
    "axes[1, 0].set_title('Затраты на рекламу')\n",
    "axes[1, 0].set_xlabel('Дата')\n",
    "axes[1, 0].set_ylabel('Стоимость рекламы');"
   ]
  },
  {
   "cell_type": "markdown",
   "metadata": {},
   "source": [
    "Получили, что:\n",
    "* На рекламу в Facebook, Instagram, и Yandex тратилось одинаковое количество средств, однако Yandex привел больше всех новых пользователей\n",
    "* У Facebook самая высокая стоимость привлечения одного пользователя, и пришло с него меньше всего пользователй\n",
    "* На Youtube тратилось меньше всего средств, однако и стоимость привлечения оказалась самая низкая. Возможно это хороший канал для развития\n",
    "\n",
    "Итого\n",
    "* *Yandex* - самый эффективный канал (по стоимости одного пользователя и кол-ву приведенных пользователей)\n",
    "* *Facebook* - самый неэффективный канал (по стоимости одного пользователя и кол-ву приведенных пользователей)\n",
    "* *Youtube* - может быть хорошим каналом для развития\n",
    "* *Instagram* - средний ок канал"
   ]
  },
  {
   "cell_type": "markdown",
   "metadata": {},
   "source": [
    "## Влияние источника перехода на поведение пользователя\n",
    "\n",
    "Проверим, вличет ли источник перехода на поведение пользователя по следующим параметрам:\n",
    "* способ прохождение уровня\n",
    "* количество и тип построенных зданий\n",
    "* время прохождения уровня\n",
    "\n",
    "### Способ прохождения уровня"
   ]
  },
  {
   "cell_type": "code",
   "execution_count": 51,
   "metadata": {},
   "outputs": [],
   "source": [
    "level_pass = pd.pivot_table(profiles.query('level_completed == True'), \n",
    "                            index='source', columns='project_completed', values='user_id', aggfunc='count').reset_index()"
   ]
  },
  {
   "cell_type": "code",
   "execution_count": 52,
   "metadata": {},
   "outputs": [
    {
     "data": {
      "text/html": [
       "<div>\n",
       "<style scoped>\n",
       "    .dataframe tbody tr th:only-of-type {\n",
       "        vertical-align: middle;\n",
       "    }\n",
       "\n",
       "    .dataframe tbody tr th {\n",
       "        vertical-align: top;\n",
       "    }\n",
       "\n",
       "    .dataframe thead th {\n",
       "        text-align: right;\n",
       "    }\n",
       "</style>\n",
       "<table border=\"1\" class=\"dataframe\">\n",
       "  <thead>\n",
       "    <tr style=\"text-align: right;\">\n",
       "      <th>project_completed</th>\n",
       "      <th>source</th>\n",
       "      <th>victory</th>\n",
       "      <th>project</th>\n",
       "    </tr>\n",
       "  </thead>\n",
       "  <tbody>\n",
       "    <tr>\n",
       "      <th>0</th>\n",
       "      <td>facebook_ads</td>\n",
       "      <td>759</td>\n",
       "      <td>391</td>\n",
       "    </tr>\n",
       "    <tr>\n",
       "      <th>1</th>\n",
       "      <td>instagram_new_adverts</td>\n",
       "      <td>990</td>\n",
       "      <td>476</td>\n",
       "    </tr>\n",
       "    <tr>\n",
       "      <th>2</th>\n",
       "      <td>yandex_direct</td>\n",
       "      <td>1422</td>\n",
       "      <td>620</td>\n",
       "    </tr>\n",
       "    <tr>\n",
       "      <th>3</th>\n",
       "      <td>youtube_channel_reklama</td>\n",
       "      <td>780</td>\n",
       "      <td>379</td>\n",
       "    </tr>\n",
       "  </tbody>\n",
       "</table>\n",
       "</div>"
      ],
      "text/plain": [
       "project_completed                   source  victory  project\n",
       "0                             facebook_ads      759      391\n",
       "1                    instagram_new_adverts      990      476\n",
       "2                            yandex_direct     1422      620\n",
       "3                  youtube_channel_reklama      780      379"
      ]
     },
     "execution_count": 52,
     "metadata": {},
     "output_type": "execute_result"
    }
   ],
   "source": [
    "level_pass = level_pass.rename(columns = {False: 'victory', True: 'project'})\n",
    "level_pass"
   ]
  },
  {
   "cell_type": "code",
   "execution_count": 53,
   "metadata": {},
   "outputs": [],
   "source": [
    "level_pass['ratio'] = round(level_pass['project'] / (level_pass['project'] + (level_pass['victory'])), 2)"
   ]
  },
  {
   "cell_type": "code",
   "execution_count": 54,
   "metadata": {},
   "outputs": [
    {
     "data": {
      "text/html": [
       "<div>\n",
       "<style scoped>\n",
       "    .dataframe tbody tr th:only-of-type {\n",
       "        vertical-align: middle;\n",
       "    }\n",
       "\n",
       "    .dataframe tbody tr th {\n",
       "        vertical-align: top;\n",
       "    }\n",
       "\n",
       "    .dataframe thead th {\n",
       "        text-align: right;\n",
       "    }\n",
       "</style>\n",
       "<table border=\"1\" class=\"dataframe\">\n",
       "  <thead>\n",
       "    <tr style=\"text-align: right;\">\n",
       "      <th>project_completed</th>\n",
       "      <th>source</th>\n",
       "      <th>victory</th>\n",
       "      <th>project</th>\n",
       "      <th>ratio</th>\n",
       "    </tr>\n",
       "  </thead>\n",
       "  <tbody>\n",
       "    <tr>\n",
       "      <th>0</th>\n",
       "      <td>facebook_ads</td>\n",
       "      <td>759</td>\n",
       "      <td>391</td>\n",
       "      <td>0.34</td>\n",
       "    </tr>\n",
       "    <tr>\n",
       "      <th>1</th>\n",
       "      <td>instagram_new_adverts</td>\n",
       "      <td>990</td>\n",
       "      <td>476</td>\n",
       "      <td>0.32</td>\n",
       "    </tr>\n",
       "    <tr>\n",
       "      <th>2</th>\n",
       "      <td>yandex_direct</td>\n",
       "      <td>1422</td>\n",
       "      <td>620</td>\n",
       "      <td>0.30</td>\n",
       "    </tr>\n",
       "    <tr>\n",
       "      <th>3</th>\n",
       "      <td>youtube_channel_reklama</td>\n",
       "      <td>780</td>\n",
       "      <td>379</td>\n",
       "      <td>0.33</td>\n",
       "    </tr>\n",
       "  </tbody>\n",
       "</table>\n",
       "</div>"
      ],
      "text/plain": [
       "project_completed                   source  victory  project  ratio\n",
       "0                             facebook_ads      759      391   0.34\n",
       "1                    instagram_new_adverts      990      476   0.32\n",
       "2                            yandex_direct     1422      620   0.30\n",
       "3                  youtube_channel_reklama      780      379   0.33"
      ]
     },
     "execution_count": 54,
     "metadata": {},
     "output_type": "execute_result"
    }
   ],
   "source": [
    "level_pass "
   ]
  },
  {
   "cell_type": "markdown",
   "metadata": {},
   "source": [
    "Соотношение игроков закончивших уровень через проект ко всем игрокам (колонка *ratio*) примерно совпадает для всех источников.\n",
    "Незначительные изменения можно списать на погрешность"
   ]
  },
  {
   "cell_type": "markdown",
   "metadata": {},
   "source": [
    "### Количество и тип построенных зданий\n",
    "\n",
    "Посчитаем среднее число и медиану количества строений на одного игрока. В корректного сравнения будем брать только тех, кто закончил первый уровень, чтобы был примерно одинаковый игровой опыт и этап"
   ]
  },
  {
   "cell_type": "code",
   "execution_count": 55,
   "metadata": {},
   "outputs": [
    {
     "data": {
      "text/html": [
       "<div>\n",
       "<style scoped>\n",
       "    .dataframe tbody tr th:only-of-type {\n",
       "        vertical-align: middle;\n",
       "    }\n",
       "\n",
       "    .dataframe tbody tr th {\n",
       "        vertical-align: top;\n",
       "    }\n",
       "\n",
       "    .dataframe thead tr th {\n",
       "        text-align: left;\n",
       "    }\n",
       "</style>\n",
       "<table border=\"1\" class=\"dataframe\">\n",
       "  <thead>\n",
       "    <tr>\n",
       "      <th></th>\n",
       "      <th>source</th>\n",
       "      <th colspan=\"4\" halign=\"left\">median</th>\n",
       "      <th colspan=\"4\" halign=\"left\">mean</th>\n",
       "    </tr>\n",
       "    <tr>\n",
       "      <th></th>\n",
       "      <th></th>\n",
       "      <th>assembly_shop</th>\n",
       "      <th>buildings</th>\n",
       "      <th>research_center</th>\n",
       "      <th>spaceport</th>\n",
       "      <th>assembly_shop</th>\n",
       "      <th>buildings</th>\n",
       "      <th>research_center</th>\n",
       "      <th>spaceport</th>\n",
       "    </tr>\n",
       "  </thead>\n",
       "  <tbody>\n",
       "    <tr>\n",
       "      <th>0</th>\n",
       "      <td>facebook_ads</td>\n",
       "      <td>5</td>\n",
       "      <td>11</td>\n",
       "      <td>1</td>\n",
       "      <td>5</td>\n",
       "      <td>4.426087</td>\n",
       "      <td>10.524348</td>\n",
       "      <td>1.333043</td>\n",
       "      <td>4.765217</td>\n",
       "    </tr>\n",
       "    <tr>\n",
       "      <th>1</th>\n",
       "      <td>instagram_new_adverts</td>\n",
       "      <td>4</td>\n",
       "      <td>11</td>\n",
       "      <td>1</td>\n",
       "      <td>5</td>\n",
       "      <td>4.345157</td>\n",
       "      <td>10.489768</td>\n",
       "      <td>1.280355</td>\n",
       "      <td>4.864256</td>\n",
       "    </tr>\n",
       "    <tr>\n",
       "      <th>2</th>\n",
       "      <td>yandex_direct</td>\n",
       "      <td>5</td>\n",
       "      <td>11</td>\n",
       "      <td>1</td>\n",
       "      <td>5</td>\n",
       "      <td>4.365818</td>\n",
       "      <td>10.353085</td>\n",
       "      <td>1.252693</td>\n",
       "      <td>4.734574</td>\n",
       "    </tr>\n",
       "    <tr>\n",
       "      <th>3</th>\n",
       "      <td>youtube_channel_reklama</td>\n",
       "      <td>5</td>\n",
       "      <td>11</td>\n",
       "      <td>1</td>\n",
       "      <td>5</td>\n",
       "      <td>4.347714</td>\n",
       "      <td>10.495255</td>\n",
       "      <td>1.280414</td>\n",
       "      <td>4.867127</td>\n",
       "    </tr>\n",
       "  </tbody>\n",
       "</table>\n",
       "</div>"
      ],
      "text/plain": [
       "                    source        median                                      \\\n",
       "                           assembly_shop buildings research_center spaceport   \n",
       "0             facebook_ads             5        11               1         5   \n",
       "1    instagram_new_adverts             4        11               1         5   \n",
       "2            yandex_direct             5        11               1         5   \n",
       "3  youtube_channel_reklama             5        11               1         5   \n",
       "\n",
       "           mean                                       \n",
       "  assembly_shop  buildings research_center spaceport  \n",
       "0      4.426087  10.524348        1.333043  4.765217  \n",
       "1      4.345157  10.489768        1.280355  4.864256  \n",
       "2      4.365818  10.353085        1.252693  4.734574  \n",
       "3      4.347714  10.495255        1.280414  4.867127  "
      ]
     },
     "execution_count": 55,
     "metadata": {},
     "output_type": "execute_result"
    }
   ],
   "source": [
    "pd.pivot_table(profiles.query('level_completed == True'), \n",
    "               index='source', values=['buildings', 'assembly_shop', 'research_center', 'spaceport'],\n",
    "               aggfunc=['median', 'mean']).reset_index()"
   ]
  },
  {
   "cell_type": "markdown",
   "metadata": {},
   "source": [
    "Видим что медиана практически одинакова у всех, и средние значения близки друг к другу"
   ]
  },
  {
   "cell_type": "markdown",
   "metadata": {},
   "source": [
    "### Время прохождения уровня"
   ]
  },
  {
   "cell_type": "code",
   "execution_count": 56,
   "metadata": {},
   "outputs": [
    {
     "data": {
      "text/html": [
       "<div>\n",
       "<style scoped>\n",
       "    .dataframe tbody tr th:only-of-type {\n",
       "        vertical-align: middle;\n",
       "    }\n",
       "\n",
       "    .dataframe tbody tr th {\n",
       "        vertical-align: top;\n",
       "    }\n",
       "\n",
       "    .dataframe thead tr th {\n",
       "        text-align: left;\n",
       "    }\n",
       "</style>\n",
       "<table border=\"1\" class=\"dataframe\">\n",
       "  <thead>\n",
       "    <tr>\n",
       "      <th></th>\n",
       "      <th>source</th>\n",
       "      <th>median</th>\n",
       "      <th>mean</th>\n",
       "    </tr>\n",
       "    <tr>\n",
       "      <th></th>\n",
       "      <th></th>\n",
       "      <th>time_for_level</th>\n",
       "      <th>time_for_level</th>\n",
       "    </tr>\n",
       "  </thead>\n",
       "  <tbody>\n",
       "    <tr>\n",
       "      <th>0</th>\n",
       "      <td>facebook_ads</td>\n",
       "      <td>12</td>\n",
       "      <td>11.794783</td>\n",
       "    </tr>\n",
       "    <tr>\n",
       "      <th>1</th>\n",
       "      <td>instagram_new_adverts</td>\n",
       "      <td>12</td>\n",
       "      <td>11.847885</td>\n",
       "    </tr>\n",
       "    <tr>\n",
       "      <th>2</th>\n",
       "      <td>yandex_direct</td>\n",
       "      <td>11</td>\n",
       "      <td>11.757101</td>\n",
       "    </tr>\n",
       "    <tr>\n",
       "      <th>3</th>\n",
       "      <td>youtube_channel_reklama</td>\n",
       "      <td>12</td>\n",
       "      <td>11.862813</td>\n",
       "    </tr>\n",
       "  </tbody>\n",
       "</table>\n",
       "</div>"
      ],
      "text/plain": [
       "                    source         median           mean\n",
       "                           time_for_level time_for_level\n",
       "0             facebook_ads             12      11.794783\n",
       "1    instagram_new_adverts             12      11.847885\n",
       "2            yandex_direct             11      11.757101\n",
       "3  youtube_channel_reklama             12      11.862813"
      ]
     },
     "execution_count": 56,
     "metadata": {},
     "output_type": "execute_result"
    }
   ],
   "source": [
    "pd.pivot_table(profiles.query('level_completed == True'), \n",
    "               index='source', values='time_for_level',\n",
    "               aggfunc=['median', 'mean']).reset_index()"
   ]
  },
  {
   "cell_type": "markdown",
   "metadata": {},
   "source": [
    "Здесь так же не видно никаких зависимостей от источника перехода"
   ]
  },
  {
   "cell_type": "markdown",
   "metadata": {},
   "source": [
    "### Вывод\n",
    "Посмотрели на следующие харакетиристики в зависимости от разных рекламных источников перехода\n",
    "* способ прохождение уровня\n",
    "* количество и тип построенных зданий\n",
    "* время прохождения уровня\n",
    "\n",
    "Можем сделать вывод, что **источник перехода не влияет на игровое поведение пользователей**"
   ]
  },
  {
   "cell_type": "markdown",
   "metadata": {},
   "source": [
    "## Статистические гипотезы\n",
    "### Время завершения уровня различается в зависимости способа прохождения уровня\n",
    "Проверим гипотезу о том, что время завершения уровня различается в зависимости способа прохождения уровня:\n",
    "\n",
    "$H_0$ - время завершения уровня совпадает (не зависит от способа прохождения)\n",
    "    \n",
    "$H_1$ - время завершения уровня различается (зависит от способа прохождения)\n",
    "\n",
    "Для это выделим два массива данных - время прохождения уровня для каждого из способов"
   ]
  },
  {
   "cell_type": "code",
   "execution_count": 57,
   "metadata": {},
   "outputs": [],
   "source": [
    "time_project = profiles.query('level_completed == True and project_completed == True')['time_for_level']\n",
    "time_victory = profiles.query('level_completed == True and project_completed == False')['time_for_level']"
   ]
  },
  {
   "cell_type": "code",
   "execution_count": 58,
   "metadata": {},
   "outputs": [
    {
     "name": "stdout",
     "output_type": "stream",
     "text": [
      "1866\n",
      "3951\n"
     ]
    }
   ],
   "source": [
    "print(len(time_project))\n",
    "print(len(time_victory))"
   ]
  },
  {
   "cell_type": "code",
   "execution_count": 59,
   "metadata": {
    "scrolled": true
   },
   "outputs": [
    {
     "name": "stdout",
     "output_type": "stream",
     "text": [
      "Отвергаем нулевую гипотезу, есть разница в среднем времени прохождения уровня\n",
      "p-value: 0.000\n",
      "Среднее время прохождения уровня через проект 13.396570203644158\n",
      "Среднее время прохождения уровня через победу 11.0584662110858\n"
     ]
    }
   ],
   "source": [
    "p_value = stats.mannwhitneyu(list(time_project), list(time_victory))[1]\n",
    "alpha = 0.05\n",
    "\n",
    "if p_value < alpha:\n",
    "    print(\"Отвергаем нулевую гипотезу, есть разница в среднем времени прохождения уровня\")\n",
    "else:\n",
    "    print(\"Не можем отвергнуть нулевую гипотезу. Статистической разницы в среднем времени прохождения уровня\")\n",
    "\n",
    "print(\"p-value:\", \"{0:.3f}\".format(p_value))\n",
    "\n",
    "print(\"Среднее время прохождения уровня через проект\", time_project.mean())\n",
    "print(\"Среднее время прохождения уровня через победу\", time_victory.mean())"
   ]
  },
  {
   "cell_type": "markdown",
   "metadata": {},
   "source": [
    "Получили что прохождение уровня через проект статистически занимает больше времени, чем через победу\n",
    "\n",
    "Для наглядности посмотрим на распределение"
   ]
  },
  {
   "cell_type": "code",
   "execution_count": 102,
   "metadata": {},
   "outputs": [
    {
     "data": {
      "image/png": "[encoded data removed]",
      "text/plain": [
       "<Figure size 576x432 with 1 Axes>"
      ]
     },
     "metadata": {
      "needs_background": "light"
     },
     "output_type": "display_data"
    }
   ],
   "source": [
    "plt.figure(figsize=(8, 6))\n",
    "vchart = sns.histplot(time_victory, label='прохождение через победу')\n",
    "plt.xlabel('Время прохождения уровня')\n",
    "plt.ylabel('Число наблюдений')\n",
    "plt.title('Распределние времени прохождения уровня')\n",
    "pchart = sns.histplot(time_project, color='lightgreen', label='прохождение через проект')\n",
    "plt.legend()\n",
    "plt.show()"
   ]
  },
  {
   "cell_type": "markdown",
   "metadata": {},
   "source": [
    "### Количество построенных зданий различается в зависимости способа прохождения уровня\n",
    "Проверим гипотезу о том, что количество построенных зданий различается в зависимости способа прохождения уровня:\n",
    "\n",
    "$H_0$ - количество построенных зданий совпадает (не зависит от способа прохождения)\n",
    "    \n",
    "$H_1$ - количество построенных зданий различается (зависит от способа прохождения)\n",
    "\n",
    "Для это выделим два массива данных - количество построенных зданий для каждого из способов"
   ]
  },
  {
   "cell_type": "code",
   "execution_count": 60,
   "metadata": {},
   "outputs": [],
   "source": [
    "buildings_project = profiles.query('level_completed == True and project_completed == True')['buildings']\n",
    "buildings_victory = profiles.query('level_completed == True and project_completed == False')['buildings']"
   ]
  },
  {
   "cell_type": "code",
   "execution_count": 61,
   "metadata": {},
   "outputs": [
    {
     "name": "stdout",
     "output_type": "stream",
     "text": [
      "Отвергаем нулевую гипотезу, есть разница в количестве построенных зданий\n",
      "p-value: 0.000\n",
      "Среднее количество построенных зданий при прохождении уровня через проект 12.64790996784566\n",
      "Среднее количество построенных зданий при прохождении уровня через победу 9.411541381928625\n"
     ]
    }
   ],
   "source": [
    "p_value = stats.mannwhitneyu(list(buildings_project), list(buildings_victory))[1]\n",
    "alpha = 0.05\n",
    "\n",
    "if p_value < alpha:\n",
    "    print(\"Отвергаем нулевую гипотезу, есть разница в количестве построенных зданий\")\n",
    "else:\n",
    "    print(\"Не можем отвергнуть нулевую гипотезу. Статистической разницы в количестве построенных зданий\")\n",
    "\n",
    "print(\"p-value:\", \"{0:.3f}\".format(p_value))\n",
    "\n",
    "print(\"Среднее количество построенных зданий при прохождении уровня через проект\", buildings_project.mean())\n",
    "print(\"Среднее количество построенных зданий при прохождении уровня через победу\", buildings_victory.mean())"
   ]
  },
  {
   "cell_type": "markdown",
   "metadata": {},
   "source": [
    "Так же получили, что при прохождения уровня через проект игроки строят больше зданий (возможно они требуются для реализации проекта).\n",
    "\n",
    "Посмотрим на распределение"
   ]
  },
  {
   "cell_type": "code",
   "execution_count": 108,
   "metadata": {},
   "outputs": [
    {
     "data": {
      "image/png": "[encoded data removed]",
      "text/plain": [
       "<Figure size 576x432 with 1 Axes>"
      ]
     },
     "metadata": {
      "needs_background": "light"
     },
     "output_type": "display_data"
    }
   ],
   "source": [
    "plt.figure(figsize=(8, 6))\n",
    "vchart = sns.histplot(buildings_victory, label='прохождение через победу', bins=20)\n",
    "plt.xlabel('Кол-во строений')\n",
    "plt.ylabel('Число наблюдений')\n",
    "plt.title('Распределние числа строений при прохождении уровня')\n",
    "pchart = sns.histplot(buildings_project, color='lightgreen', label='прохождение через проект', bins=12)\n",
    "plt.legend()\n",
    "plt.show()"
   ]
  },
  {
   "cell_type": "markdown",
   "metadata": {},
   "source": [
    "График подтверждает результат, но выглядит необычно - нет левой части купола для проходивших через проект. Скорее всего действительно для реализации проекта требуется как минимум 9 зданий"
   ]
  },
  {
   "cell_type": "markdown",
   "metadata": {},
   "source": [
    "## Выводы\n",
    "По результатам исследования, пришли к следующим выводам\n",
    "\n",
    "1. *Исследовательский анализ данных*\n",
    "* Примерно две трети пользователей предпочитают проходить первый уровень через победу (68% против 32%)\n",
    "* Самые частостроящиеся здания это исследовательский центр(46% из всех строений) и сборочный цех (42% из всех строений).\n",
    "\n",
    "2. *Анализ рекламных источников*\n",
    "\n",
    "* *Yandex* - самый эффективный канал (по стоимости одного пользователя и кол-ву приведенных пользователей)\n",
    "* *Facebook* - самый неэффективный канал (по стоимости одного пользователя и кол-ву приведенных пользователей)\n",
    "* *Youtube* - может быть хорошим каналом для развития\n",
    "* *Instagram* - средний ок канал\n",
    "    \n",
    "3. *Влияние рекламного истоника на поведение пользователя*\n",
    "* Рекламный источник не влияет на поведение пользователя\n",
    "    \n",
    "    \n",
    "4. *Статистические гипотезы*\n",
    "* Прохождение уровня через проект статистически занимает больше времени, чем через победу (в среднем 13,5 дней и 11 дней)\n",
    "* При прохождения уровня через проект игроки строят больше зданий (в среднем 12,6 зданий и 9,4)"
   ]
  }
 ],
 "metadata": {
  "ExecuteTimeLog": [
   {
    "duration": 393,
    "start_time": "2022-06-20T14:27:46.601Z"
   },
   {
    "duration": 104,
    "start_time": "2022-06-20T14:28:33.325Z"
   },
   {
    "duration": 42,
    "start_time": "2022-06-20T14:29:46.036Z"
   },
   {
    "duration": 41,
    "start_time": "2022-06-20T14:29:54.681Z"
   },
   {
    "duration": 571,
    "start_time": "2022-06-20T14:31:42.643Z"
   },
   {
    "duration": 34,
    "start_time": "2022-06-20T14:31:58.700Z"
   },
   {
    "duration": 15,
    "start_time": "2022-06-20T14:35:27.914Z"
   },
   {
    "duration": 61,
    "start_time": "2022-06-20T14:36:00.995Z"
   },
   {
    "duration": 48,
    "start_time": "2022-06-20T14:36:07.412Z"
   },
   {
    "duration": 56,
    "start_time": "2022-06-20T14:37:11.122Z"
   },
   {
    "duration": 14,
    "start_time": "2022-06-20T14:37:17.885Z"
   },
   {
    "duration": 11,
    "start_time": "2022-06-20T14:37:21.224Z"
   },
   {
    "duration": 11,
    "start_time": "2022-06-20T14:37:27.123Z"
   },
   {
    "duration": 15,
    "start_time": "2022-06-20T14:38:27.891Z"
   },
   {
    "duration": 19,
    "start_time": "2022-06-20T14:38:33.890Z"
   },
   {
    "duration": 22,
    "start_time": "2022-06-20T14:38:44.015Z"
   },
   {
    "duration": 44,
    "start_time": "2022-06-20T14:42:35.827Z"
   },
   {
    "duration": 67,
    "start_time": "2022-06-20T14:43:01.018Z"
   },
   {
    "duration": 64,
    "start_time": "2022-06-20T14:43:01.956Z"
   },
   {
    "duration": 14,
    "start_time": "2022-06-20T14:43:12.594Z"
   },
   {
    "duration": 5,
    "start_time": "2022-06-20T14:45:19.444Z"
   },
   {
    "duration": 5,
    "start_time": "2022-06-20T14:45:41.908Z"
   },
   {
    "duration": 13,
    "start_time": "2022-06-20T14:46:09.329Z"
   },
   {
    "duration": 17,
    "start_time": "2022-06-20T14:46:31.826Z"
   },
   {
    "duration": 78,
    "start_time": "2022-06-20T14:48:20.819Z"
   },
   {
    "duration": 8,
    "start_time": "2022-06-20T14:48:27.259Z"
   },
   {
    "duration": 10,
    "start_time": "2022-06-20T14:48:59.520Z"
   },
   {
    "duration": 1579,
    "start_time": "2022-06-20T14:54:27.626Z"
   },
   {
    "duration": 42,
    "start_time": "2022-06-20T14:56:28.754Z"
   },
   {
    "duration": 10,
    "start_time": "2022-06-20T14:56:36.321Z"
   },
   {
    "duration": 465,
    "start_time": "2022-06-20T14:56:57.617Z"
   },
   {
    "duration": 11,
    "start_time": "2022-06-20T14:57:48.821Z"
   },
   {
    "duration": 3,
    "start_time": "2022-06-20T14:58:06.766Z"
   },
   {
    "duration": 428,
    "start_time": "2022-06-20T14:58:10.098Z"
   },
   {
    "duration": 419,
    "start_time": "2022-06-20T14:58:15.098Z"
   },
   {
    "duration": 422,
    "start_time": "2022-06-20T14:58:26.255Z"
   },
   {
    "duration": 12,
    "start_time": "2022-06-20T15:00:30.738Z"
   },
   {
    "duration": 21,
    "start_time": "2022-06-20T15:00:43.309Z"
   },
   {
    "duration": 53,
    "start_time": "2022-06-21T14:26:54.024Z"
   },
   {
    "duration": 1443,
    "start_time": "2022-06-21T14:26:59.317Z"
   },
   {
    "duration": 753,
    "start_time": "2022-06-21T14:27:00.763Z"
   },
   {
    "duration": 14,
    "start_time": "2022-06-21T14:27:01.517Z"
   },
   {
    "duration": 60,
    "start_time": "2022-06-21T14:27:01.533Z"
   },
   {
    "duration": 51,
    "start_time": "2022-06-21T14:27:01.596Z"
   },
   {
    "duration": 102,
    "start_time": "2022-06-21T14:27:01.649Z"
   },
   {
    "duration": 32,
    "start_time": "2022-06-21T14:27:01.754Z"
   },
   {
    "duration": 86,
    "start_time": "2022-06-21T14:27:01.787Z"
   },
   {
    "duration": 8,
    "start_time": "2022-06-21T14:27:01.874Z"
   },
   {
    "duration": 26,
    "start_time": "2022-06-21T14:27:01.884Z"
   },
   {
    "duration": 38,
    "start_time": "2022-06-21T14:27:01.912Z"
   },
   {
    "duration": 168,
    "start_time": "2022-06-21T14:27:01.952Z"
   },
   {
    "duration": 18,
    "start_time": "2022-06-21T14:27:02.122Z"
   },
   {
    "duration": 11,
    "start_time": "2022-06-21T14:27:02.144Z"
   },
   {
    "duration": 19,
    "start_time": "2022-06-21T14:27:02.157Z"
   },
   {
    "duration": 621,
    "start_time": "2022-06-21T14:27:02.178Z"
   },
   {
    "duration": 450,
    "start_time": "2022-06-21T14:27:13.202Z"
   },
   {
    "duration": 13,
    "start_time": "2022-06-21T14:35:59.669Z"
   },
   {
    "duration": 25,
    "start_time": "2022-06-21T14:36:09.395Z"
   },
   {
    "duration": 75,
    "start_time": "2022-06-21T14:36:28.190Z"
   },
   {
    "duration": 81,
    "start_time": "2022-06-21T14:37:03.345Z"
   },
   {
    "duration": 78,
    "start_time": "2022-06-21T14:37:57.467Z"
   },
   {
    "duration": 90,
    "start_time": "2022-06-21T14:38:07.423Z"
   },
   {
    "duration": 87,
    "start_time": "2022-06-21T14:38:13.540Z"
   },
   {
    "duration": 170,
    "start_time": "2022-06-21T14:39:01.726Z"
   },
   {
    "duration": 107,
    "start_time": "2022-06-21T14:39:07.324Z"
   },
   {
    "duration": 120,
    "start_time": "2022-06-21T14:39:39.584Z"
   },
   {
    "duration": 122,
    "start_time": "2022-06-21T14:39:45.570Z"
   },
   {
    "duration": 121,
    "start_time": "2022-06-21T14:41:18.966Z"
   },
   {
    "duration": 121,
    "start_time": "2022-06-21T14:41:54.830Z"
   },
   {
    "duration": 145,
    "start_time": "2022-06-21T14:47:38.496Z"
   },
   {
    "duration": 176,
    "start_time": "2022-06-21T14:48:11.776Z"
   },
   {
    "duration": 62,
    "start_time": "2022-06-21T14:48:29.187Z"
   },
   {
    "duration": 144,
    "start_time": "2022-06-21T14:48:45.347Z"
   },
   {
    "duration": 127,
    "start_time": "2022-06-21T14:48:52.754Z"
   },
   {
    "duration": 113,
    "start_time": "2022-06-21T14:48:59.604Z"
   },
   {
    "duration": 115,
    "start_time": "2022-06-21T15:03:10.745Z"
   },
   {
    "duration": 11,
    "start_time": "2022-06-21T15:03:16.545Z"
   },
   {
    "duration": 121,
    "start_time": "2022-06-21T15:05:26.107Z"
   },
   {
    "duration": 8,
    "start_time": "2022-06-21T15:05:27.326Z"
   },
   {
    "duration": 124,
    "start_time": "2022-06-21T15:05:41.285Z"
   },
   {
    "duration": 9,
    "start_time": "2022-06-21T15:05:42.394Z"
   },
   {
    "duration": 129,
    "start_time": "2022-06-21T15:06:49.544Z"
   },
   {
    "duration": 10,
    "start_time": "2022-06-21T15:06:50.517Z"
   },
   {
    "duration": 135,
    "start_time": "2022-06-21T15:07:07.671Z"
   },
   {
    "duration": 10,
    "start_time": "2022-06-21T15:07:08.902Z"
   },
   {
    "duration": 119,
    "start_time": "2022-06-21T15:07:15.358Z"
   },
   {
    "duration": 9,
    "start_time": "2022-06-21T15:07:16.319Z"
   },
   {
    "duration": 131,
    "start_time": "2022-06-21T15:08:38.122Z"
   },
   {
    "duration": 9,
    "start_time": "2022-06-21T15:08:39.778Z"
   },
   {
    "duration": 5,
    "start_time": "2022-06-21T15:08:57.378Z"
   },
   {
    "duration": 129,
    "start_time": "2022-06-21T15:09:21.315Z"
   },
   {
    "duration": 10,
    "start_time": "2022-06-21T15:09:22.092Z"
   },
   {
    "duration": 129,
    "start_time": "2022-06-21T15:10:39.070Z"
   },
   {
    "duration": 10,
    "start_time": "2022-06-21T15:10:39.873Z"
   },
   {
    "duration": 139,
    "start_time": "2022-06-21T15:11:55.267Z"
   },
   {
    "duration": 11,
    "start_time": "2022-06-21T15:11:57.082Z"
   },
   {
    "duration": 121,
    "start_time": "2022-06-21T15:15:36.976Z"
   },
   {
    "duration": 8,
    "start_time": "2022-06-21T15:15:37.744Z"
   },
   {
    "duration": 4,
    "start_time": "2022-06-21T15:15:47.196Z"
   },
   {
    "duration": 127,
    "start_time": "2022-06-21T15:16:05.399Z"
   },
   {
    "duration": 10,
    "start_time": "2022-06-21T15:16:05.925Z"
   },
   {
    "duration": 127,
    "start_time": "2022-06-21T15:16:25.184Z"
   },
   {
    "duration": 7,
    "start_time": "2022-06-21T15:16:25.815Z"
   },
   {
    "duration": 138,
    "start_time": "2022-06-21T15:16:30.983Z"
   },
   {
    "duration": 8,
    "start_time": "2022-06-21T15:16:31.607Z"
   },
   {
    "duration": 10,
    "start_time": "2022-06-21T15:38:43.663Z"
   },
   {
    "duration": 21,
    "start_time": "2022-06-21T15:38:55.494Z"
   },
   {
    "duration": 10,
    "start_time": "2022-06-21T15:39:01.990Z"
   },
   {
    "duration": 12,
    "start_time": "2022-06-21T15:40:46.355Z"
   },
   {
    "duration": 10,
    "start_time": "2022-06-21T15:41:05.785Z"
   },
   {
    "duration": 10,
    "start_time": "2022-06-21T15:43:01.876Z"
   },
   {
    "duration": 22,
    "start_time": "2022-06-21T15:43:48.483Z"
   },
   {
    "duration": 30,
    "start_time": "2022-06-21T15:44:35.376Z"
   },
   {
    "duration": 38,
    "start_time": "2022-06-21T16:38:14.850Z"
   },
   {
    "duration": 11,
    "start_time": "2022-06-21T16:38:20.894Z"
   },
   {
    "duration": 35,
    "start_time": "2022-06-21T16:38:33.837Z"
   },
   {
    "duration": 11,
    "start_time": "2022-06-21T16:38:34.338Z"
   },
   {
    "duration": 37,
    "start_time": "2022-06-21T16:39:59.891Z"
   },
   {
    "duration": 4,
    "start_time": "2022-06-21T16:40:26.955Z"
   },
   {
    "duration": 9,
    "start_time": "2022-06-21T16:45:04.126Z"
   },
   {
    "duration": 18,
    "start_time": "2022-06-21T16:45:08.352Z"
   },
   {
    "duration": 10,
    "start_time": "2022-06-21T16:45:13.894Z"
   },
   {
    "duration": 4,
    "start_time": "2022-06-21T16:51:53.449Z"
   },
   {
    "duration": 4,
    "start_time": "2022-06-21T16:52:01.217Z"
   },
   {
    "duration": 616,
    "start_time": "2022-06-21T16:53:27.396Z"
   },
   {
    "duration": 6,
    "start_time": "2022-06-21T16:54:17.592Z"
   },
   {
    "duration": 6,
    "start_time": "2022-06-21T16:54:23.188Z"
   },
   {
    "duration": 10,
    "start_time": "2022-06-21T16:54:35.040Z"
   },
   {
    "duration": 11,
    "start_time": "2022-06-21T16:56:54.570Z"
   },
   {
    "duration": 16,
    "start_time": "2022-06-21T16:57:29.417Z"
   },
   {
    "duration": 18,
    "start_time": "2022-06-21T16:57:38.163Z"
   },
   {
    "duration": 9,
    "start_time": "2022-06-21T17:15:29.884Z"
   },
   {
    "duration": 6,
    "start_time": "2022-06-21T17:15:33.547Z"
   },
   {
    "duration": 10,
    "start_time": "2022-06-21T17:16:12.316Z"
   },
   {
    "duration": 7,
    "start_time": "2022-06-21T17:16:13.197Z"
   },
   {
    "duration": 19,
    "start_time": "2022-06-21T17:17:12.341Z"
   },
   {
    "duration": 75,
    "start_time": "2022-06-21T17:17:55.180Z"
   },
   {
    "duration": 13,
    "start_time": "2022-06-21T17:18:00.393Z"
   },
   {
    "duration": 7,
    "start_time": "2022-06-21T17:18:01.170Z"
   },
   {
    "duration": 13,
    "start_time": "2022-06-21T17:19:36.656Z"
   },
   {
    "duration": 12,
    "start_time": "2022-06-21T17:19:41.467Z"
   },
   {
    "duration": 15,
    "start_time": "2022-06-21T17:19:48.550Z"
   },
   {
    "duration": 5,
    "start_time": "2022-06-21T17:20:22.674Z"
   },
   {
    "duration": 15,
    "start_time": "2022-06-21T17:20:28.369Z"
   },
   {
    "duration": 13,
    "start_time": "2022-06-21T17:21:23.907Z"
   },
   {
    "duration": 10,
    "start_time": "2022-06-21T17:21:35.770Z"
   },
   {
    "duration": 9,
    "start_time": "2022-06-21T17:21:41.604Z"
   },
   {
    "duration": 8,
    "start_time": "2022-06-21T17:21:44.900Z"
   },
   {
    "duration": 9,
    "start_time": "2022-06-21T17:21:47.938Z"
   },
   {
    "duration": 13,
    "start_time": "2022-06-21T17:22:05.708Z"
   },
   {
    "duration": 1369,
    "start_time": "2022-06-21T17:22:10.070Z"
   },
   {
    "duration": 0,
    "start_time": "2022-06-21T17:22:11.440Z"
   },
   {
    "duration": 16,
    "start_time": "2022-06-21T17:22:26.582Z"
   },
   {
    "duration": 165,
    "start_time": "2022-06-21T17:22:36.462Z"
   },
   {
    "duration": 9,
    "start_time": "2022-06-21T17:22:37.517Z"
   },
   {
    "duration": 21,
    "start_time": "2022-06-21T17:22:38.541Z"
   },
   {
    "duration": 18,
    "start_time": "2022-06-21T17:22:39.042Z"
   },
   {
    "duration": 29,
    "start_time": "2022-06-21T17:22:39.933Z"
   },
   {
    "duration": 37,
    "start_time": "2022-06-21T17:22:40.840Z"
   },
   {
    "duration": 15,
    "start_time": "2022-06-21T17:22:41.749Z"
   },
   {
    "duration": 11,
    "start_time": "2022-06-21T17:22:42.237Z"
   },
   {
    "duration": 3,
    "start_time": "2022-06-21T17:22:43.342Z"
   },
   {
    "duration": 14,
    "start_time": "2022-06-21T17:22:43.919Z"
   },
   {
    "duration": 13,
    "start_time": "2022-06-21T17:22:44.389Z"
   },
   {
    "duration": 14,
    "start_time": "2022-06-21T17:22:44.937Z"
   },
   {
    "duration": 12,
    "start_time": "2022-06-21T17:22:50.280Z"
   },
   {
    "duration": 8,
    "start_time": "2022-06-21T17:22:51.190Z"
   },
   {
    "duration": 13,
    "start_time": "2022-06-21T17:22:52.910Z"
   },
   {
    "duration": 5,
    "start_time": "2022-06-21T17:22:55.982Z"
   },
   {
    "duration": 136,
    "start_time": "2022-06-21T17:23:35.048Z"
   },
   {
    "duration": 8,
    "start_time": "2022-06-21T17:23:35.553Z"
   },
   {
    "duration": 20,
    "start_time": "2022-06-21T17:23:36.352Z"
   },
   {
    "duration": 11,
    "start_time": "2022-06-21T17:23:36.713Z"
   },
   {
    "duration": 25,
    "start_time": "2022-06-21T17:23:38.280Z"
   },
   {
    "duration": 35,
    "start_time": "2022-06-21T17:23:39.048Z"
   },
   {
    "duration": 15,
    "start_time": "2022-06-21T17:23:39.807Z"
   },
   {
    "duration": 10,
    "start_time": "2022-06-21T17:23:40.208Z"
   },
   {
    "duration": 4,
    "start_time": "2022-06-21T17:23:42.481Z"
   },
   {
    "duration": 11,
    "start_time": "2022-06-21T17:23:42.957Z"
   },
   {
    "duration": 13,
    "start_time": "2022-06-21T17:23:43.868Z"
   },
   {
    "duration": 22,
    "start_time": "2022-06-21T17:23:48.498Z"
   },
   {
    "duration": 14,
    "start_time": "2022-06-21T17:23:51.777Z"
   },
   {
    "duration": 8,
    "start_time": "2022-06-21T17:23:52.584Z"
   },
   {
    "duration": 13,
    "start_time": "2022-06-21T17:23:55.417Z"
   },
   {
    "duration": 15,
    "start_time": "2022-06-21T17:24:38.945Z"
   },
   {
    "duration": 12,
    "start_time": "2022-06-21T17:24:42.115Z"
   },
   {
    "duration": 14,
    "start_time": "2022-06-21T17:24:56.418Z"
   },
   {
    "duration": 13,
    "start_time": "2022-06-21T17:24:58.324Z"
   },
   {
    "duration": 19,
    "start_time": "2022-06-21T17:25:09.611Z"
   },
   {
    "duration": 5,
    "start_time": "2022-06-21T17:25:40.476Z"
   },
   {
    "duration": 13,
    "start_time": "2022-06-21T17:25:44.373Z"
   },
   {
    "duration": 8,
    "start_time": "2022-06-21T17:27:25.571Z"
   },
   {
    "duration": 13,
    "start_time": "2022-06-21T17:27:41.346Z"
   },
   {
    "duration": 19,
    "start_time": "2022-06-21T17:27:49.697Z"
   },
   {
    "duration": 13,
    "start_time": "2022-06-21T17:29:03.676Z"
   },
   {
    "duration": 1189,
    "start_time": "2022-06-21T17:29:20.652Z"
   },
   {
    "duration": 234,
    "start_time": "2022-06-21T17:29:21.843Z"
   },
   {
    "duration": 12,
    "start_time": "2022-06-21T17:29:22.079Z"
   },
   {
    "duration": 52,
    "start_time": "2022-06-21T17:29:22.093Z"
   },
   {
    "duration": 35,
    "start_time": "2022-06-21T17:29:22.147Z"
   },
   {
    "duration": 41,
    "start_time": "2022-06-21T17:29:22.184Z"
   },
   {
    "duration": 56,
    "start_time": "2022-06-21T17:29:22.227Z"
   },
   {
    "duration": 21,
    "start_time": "2022-06-21T17:29:22.285Z"
   },
   {
    "duration": 10,
    "start_time": "2022-06-21T17:29:22.308Z"
   },
   {
    "duration": 29,
    "start_time": "2022-06-21T17:29:22.320Z"
   },
   {
    "duration": 12,
    "start_time": "2022-06-21T17:29:22.351Z"
   },
   {
    "duration": 20,
    "start_time": "2022-06-21T17:29:22.365Z"
   },
   {
    "duration": 33,
    "start_time": "2022-06-21T17:29:22.388Z"
   },
   {
    "duration": 8,
    "start_time": "2022-06-21T17:29:22.423Z"
   },
   {
    "duration": 33,
    "start_time": "2022-06-21T17:29:22.433Z"
   },
   {
    "duration": 29,
    "start_time": "2022-06-21T17:29:22.468Z"
   },
   {
    "duration": 536,
    "start_time": "2022-06-21T17:29:22.498Z"
   },
   {
    "duration": 127,
    "start_time": "2022-06-21T17:29:23.036Z"
   },
   {
    "duration": 169,
    "start_time": "2022-06-21T17:29:23.164Z"
   },
   {
    "duration": 152,
    "start_time": "2022-06-21T17:29:23.335Z"
   },
   {
    "duration": 9,
    "start_time": "2022-06-21T17:29:23.488Z"
   },
   {
    "duration": 36,
    "start_time": "2022-06-21T17:29:23.499Z"
   },
   {
    "duration": 13,
    "start_time": "2022-06-21T17:29:23.537Z"
   },
   {
    "duration": 36,
    "start_time": "2022-06-21T17:29:23.552Z"
   },
   {
    "duration": 44,
    "start_time": "2022-06-21T17:29:23.590Z"
   },
   {
    "duration": 18,
    "start_time": "2022-06-21T17:29:23.637Z"
   },
   {
    "duration": 10,
    "start_time": "2022-06-21T17:29:23.656Z"
   },
   {
    "duration": 22,
    "start_time": "2022-06-21T17:29:23.671Z"
   },
   {
    "duration": 52,
    "start_time": "2022-06-21T17:29:23.695Z"
   },
   {
    "duration": 17,
    "start_time": "2022-06-21T17:29:23.749Z"
   },
   {
    "duration": 25,
    "start_time": "2022-06-21T17:29:23.768Z"
   },
   {
    "duration": 19,
    "start_time": "2022-06-21T17:29:23.795Z"
   },
   {
    "duration": 22,
    "start_time": "2022-06-21T17:29:23.816Z"
   },
   {
    "duration": 17,
    "start_time": "2022-06-21T17:29:23.840Z"
   },
   {
    "duration": 34,
    "start_time": "2022-06-21T17:29:23.859Z"
   },
   {
    "duration": 48,
    "start_time": "2022-06-21T17:29:23.896Z"
   },
   {
    "duration": 26,
    "start_time": "2022-06-21T17:29:23.947Z"
   },
   {
    "duration": 16,
    "start_time": "2022-06-21T17:29:23.975Z"
   },
   {
    "duration": 25,
    "start_time": "2022-06-21T17:29:23.992Z"
   },
   {
    "duration": 104,
    "start_time": "2022-06-21T18:16:17.086Z"
   },
   {
    "duration": 95,
    "start_time": "2022-06-21T18:16:58.407Z"
   },
   {
    "duration": 87,
    "start_time": "2022-06-21T18:17:32.312Z"
   },
   {
    "duration": 96,
    "start_time": "2022-06-21T18:17:46.784Z"
   },
   {
    "duration": 178,
    "start_time": "2022-06-21T18:17:57.575Z"
   },
   {
    "duration": 11,
    "start_time": "2022-06-21T18:18:11.290Z"
   },
   {
    "duration": 90,
    "start_time": "2022-06-22T11:45:12.429Z"
   },
   {
    "duration": 1539,
    "start_time": "2022-06-22T11:45:22.101Z"
   },
   {
    "duration": 1693,
    "start_time": "2022-06-22T11:45:23.642Z"
   },
   {
    "duration": 14,
    "start_time": "2022-06-22T11:45:25.337Z"
   },
   {
    "duration": 65,
    "start_time": "2022-06-22T11:45:25.360Z"
   },
   {
    "duration": 50,
    "start_time": "2022-06-22T11:45:25.427Z"
   },
   {
    "duration": 83,
    "start_time": "2022-06-22T11:45:25.484Z"
   },
   {
    "duration": 96,
    "start_time": "2022-06-22T11:45:25.569Z"
   },
   {
    "duration": 118,
    "start_time": "2022-06-22T11:45:25.673Z"
   },
   {
    "duration": 12,
    "start_time": "2022-06-22T11:45:25.799Z"
   },
   {
    "duration": 11,
    "start_time": "2022-06-22T11:45:25.815Z"
   },
   {
    "duration": 8,
    "start_time": "2022-06-22T11:45:25.827Z"
   },
   {
    "duration": 7,
    "start_time": "2022-06-22T11:45:25.836Z"
   },
   {
    "duration": 231,
    "start_time": "2022-06-22T11:45:25.844Z"
   },
   {
    "duration": 17,
    "start_time": "2022-06-22T11:45:26.078Z"
   },
   {
    "duration": 35,
    "start_time": "2022-06-22T11:45:26.096Z"
   },
   {
    "duration": 21,
    "start_time": "2022-06-22T11:45:26.133Z"
   },
   {
    "duration": 688,
    "start_time": "2022-06-22T11:45:26.159Z"
   },
   {
    "duration": 183,
    "start_time": "2022-06-22T11:45:26.848Z"
   },
   {
    "duration": 198,
    "start_time": "2022-06-22T11:45:27.033Z"
   },
   {
    "duration": 184,
    "start_time": "2022-06-22T11:45:27.233Z"
   },
   {
    "duration": 8,
    "start_time": "2022-06-22T11:45:27.418Z"
   },
   {
    "duration": 41,
    "start_time": "2022-06-22T11:45:27.428Z"
   },
   {
    "duration": 22,
    "start_time": "2022-06-22T11:45:27.481Z"
   },
   {
    "duration": 42,
    "start_time": "2022-06-22T11:45:27.504Z"
   },
   {
    "duration": 59,
    "start_time": "2022-06-22T11:45:27.548Z"
   },
   {
    "duration": 31,
    "start_time": "2022-06-22T11:45:27.608Z"
   },
   {
    "duration": 9,
    "start_time": "2022-06-22T11:45:27.640Z"
   },
   {
    "duration": 57,
    "start_time": "2022-06-22T11:45:27.651Z"
   },
   {
    "duration": 22,
    "start_time": "2022-06-22T11:45:27.710Z"
   },
   {
    "duration": 15,
    "start_time": "2022-06-22T11:45:27.733Z"
   },
   {
    "duration": 21,
    "start_time": "2022-06-22T11:45:27.750Z"
   },
   {
    "duration": 56,
    "start_time": "2022-06-22T11:45:27.775Z"
   },
   {
    "duration": 7,
    "start_time": "2022-06-22T11:45:27.832Z"
   },
   {
    "duration": 13,
    "start_time": "2022-06-22T11:45:27.841Z"
   },
   {
    "duration": 65,
    "start_time": "2022-06-22T11:45:27.856Z"
   },
   {
    "duration": 19,
    "start_time": "2022-06-22T11:45:27.922Z"
   },
   {
    "duration": 30,
    "start_time": "2022-06-22T11:45:27.943Z"
   },
   {
    "duration": 36,
    "start_time": "2022-06-22T11:45:27.984Z"
   },
   {
    "duration": 17,
    "start_time": "2022-06-22T11:45:28.022Z"
   },
   {
    "duration": 116,
    "start_time": "2022-06-22T11:45:28.040Z"
   },
   {
    "duration": 12,
    "start_time": "2022-06-22T11:45:28.165Z"
   },
   {
    "duration": 113,
    "start_time": "2022-06-22T11:45:28.182Z"
   },
   {
    "duration": 43,
    "start_time": "2022-06-22T11:45:41.163Z"
   },
   {
    "duration": 25,
    "start_time": "2022-06-22T11:46:08.702Z"
   },
   {
    "duration": 32,
    "start_time": "2022-06-22T11:47:31.214Z"
   },
   {
    "duration": 144,
    "start_time": "2022-06-22T11:48:12.681Z"
   },
   {
    "duration": 27,
    "start_time": "2022-06-22T11:49:34.524Z"
   },
   {
    "duration": 38,
    "start_time": "2022-06-22T11:50:06.197Z"
   },
   {
    "duration": 18,
    "start_time": "2022-06-22T11:50:17.296Z"
   },
   {
    "duration": 37,
    "start_time": "2022-06-22T11:50:31.280Z"
   },
   {
    "duration": 34,
    "start_time": "2022-06-22T11:50:41.604Z"
   },
   {
    "duration": 14,
    "start_time": "2022-06-22T11:50:51.728Z"
   },
   {
    "duration": 49,
    "start_time": "2022-06-22T11:50:55.978Z"
   },
   {
    "duration": 338,
    "start_time": "2022-06-22T11:51:51.984Z"
   },
   {
    "duration": 36,
    "start_time": "2022-06-22T11:52:17.581Z"
   },
   {
    "duration": 13,
    "start_time": "2022-06-22T11:53:53.411Z"
   },
   {
    "duration": 20,
    "start_time": "2022-06-22T11:54:04.723Z"
   },
   {
    "duration": 326,
    "start_time": "2022-06-22T11:54:07.285Z"
   },
   {
    "duration": 402,
    "start_time": "2022-06-22T11:54:30.797Z"
   },
   {
    "duration": 420,
    "start_time": "2022-06-22T11:54:37.422Z"
   },
   {
    "duration": 452,
    "start_time": "2022-06-22T11:55:58.414Z"
   },
   {
    "duration": 363,
    "start_time": "2022-06-22T11:56:03.301Z"
   },
   {
    "duration": 355,
    "start_time": "2022-06-22T11:56:12.691Z"
   },
   {
    "duration": 346,
    "start_time": "2022-06-22T11:56:19.842Z"
   },
   {
    "duration": 343,
    "start_time": "2022-06-22T11:56:24.583Z"
   },
   {
    "duration": 279,
    "start_time": "2022-06-22T11:56:36.227Z"
   },
   {
    "duration": 319,
    "start_time": "2022-06-22T11:57:25.628Z"
   },
   {
    "duration": 20,
    "start_time": "2022-06-22T11:58:24.127Z"
   },
   {
    "duration": 388,
    "start_time": "2022-06-22T11:58:26.093Z"
   },
   {
    "duration": 7,
    "start_time": "2022-06-22T11:59:18.477Z"
   },
   {
    "duration": 5,
    "start_time": "2022-06-22T12:00:03.742Z"
   },
   {
    "duration": 362,
    "start_time": "2022-06-22T12:02:59.102Z"
   },
   {
    "duration": 41,
    "start_time": "2022-06-22T12:05:40.485Z"
   },
   {
    "duration": 58,
    "start_time": "2022-06-22T12:06:20.353Z"
   },
   {
    "duration": 28,
    "start_time": "2022-06-22T12:06:35.386Z"
   },
   {
    "duration": 13,
    "start_time": "2022-06-22T12:06:45.321Z"
   },
   {
    "duration": 372,
    "start_time": "2022-06-22T12:08:19.989Z"
   },
   {
    "duration": 33,
    "start_time": "2022-06-22T12:12:18.966Z"
   },
   {
    "duration": 357,
    "start_time": "2022-06-22T12:12:22.764Z"
   },
   {
    "duration": 37,
    "start_time": "2022-06-22T12:12:30.076Z"
   },
   {
    "duration": 262,
    "start_time": "2022-06-22T12:12:30.888Z"
   },
   {
    "duration": 258,
    "start_time": "2022-06-22T12:12:31.833Z"
   },
   {
    "duration": 485,
    "start_time": "2022-06-22T12:12:43.523Z"
   },
   {
    "duration": 628,
    "start_time": "2022-06-22T12:13:50.798Z"
   },
   {
    "duration": 211,
    "start_time": "2022-06-22T12:14:34.792Z"
   },
   {
    "duration": 623,
    "start_time": "2022-06-22T12:15:11.900Z"
   },
   {
    "duration": 708,
    "start_time": "2022-06-22T12:15:21.537Z"
   },
   {
    "duration": 593,
    "start_time": "2022-06-22T12:15:33.783Z"
   },
   {
    "duration": 599,
    "start_time": "2022-06-22T12:15:44.145Z"
   },
   {
    "duration": 829,
    "start_time": "2022-06-22T12:15:58.686Z"
   },
   {
    "duration": 666,
    "start_time": "2022-06-22T12:16:08.905Z"
   },
   {
    "duration": 21,
    "start_time": "2022-06-22T12:18:25.408Z"
   },
   {
    "duration": 671,
    "start_time": "2022-06-22T12:21:19.304Z"
   },
   {
    "duration": 612,
    "start_time": "2022-06-22T12:22:16.420Z"
   },
   {
    "duration": 1147,
    "start_time": "2022-06-22T12:24:09.338Z"
   },
   {
    "duration": 971,
    "start_time": "2022-06-22T12:27:28.928Z"
   },
   {
    "duration": 1019,
    "start_time": "2022-06-22T12:27:36.184Z"
   },
   {
    "duration": 958,
    "start_time": "2022-06-22T12:28:04.825Z"
   },
   {
    "duration": 986,
    "start_time": "2022-06-22T12:28:46.606Z"
   },
   {
    "duration": 1091,
    "start_time": "2022-06-22T12:28:56.307Z"
   },
   {
    "duration": 1076,
    "start_time": "2022-06-22T12:30:18.129Z"
   },
   {
    "duration": 263,
    "start_time": "2022-06-22T12:48:59.859Z"
   },
   {
    "duration": 41,
    "start_time": "2022-06-22T12:50:50.825Z"
   },
   {
    "duration": 187,
    "start_time": "2022-06-22T12:51:08.083Z"
   },
   {
    "duration": 167,
    "start_time": "2022-06-22T12:52:10.949Z"
   },
   {
    "duration": 19,
    "start_time": "2022-06-22T12:52:19.114Z"
   },
   {
    "duration": 22,
    "start_time": "2022-06-22T12:54:42.342Z"
   },
   {
    "duration": 6,
    "start_time": "2022-06-22T12:54:45.943Z"
   },
   {
    "duration": 13,
    "start_time": "2022-06-22T12:54:53.725Z"
   },
   {
    "duration": 14,
    "start_time": "2022-06-22T12:56:23.018Z"
   },
   {
    "duration": 20,
    "start_time": "2022-06-22T12:56:46.080Z"
   },
   {
    "duration": 18,
    "start_time": "2022-06-22T12:57:05.678Z"
   },
   {
    "duration": 28,
    "start_time": "2022-06-22T12:57:09.674Z"
   },
   {
    "duration": 12,
    "start_time": "2022-06-22T12:57:19.822Z"
   },
   {
    "duration": 169,
    "start_time": "2022-06-22T12:57:52.800Z"
   },
   {
    "duration": 14,
    "start_time": "2022-06-22T12:57:55.707Z"
   },
   {
    "duration": 12,
    "start_time": "2022-06-22T12:59:21.710Z"
   },
   {
    "duration": 12,
    "start_time": "2022-06-22T12:59:24.539Z"
   },
   {
    "duration": 161,
    "start_time": "2022-06-22T12:59:50.124Z"
   },
   {
    "duration": 26,
    "start_time": "2022-06-22T12:59:53.846Z"
   },
   {
    "duration": 165,
    "start_time": "2022-06-22T13:00:01.779Z"
   },
   {
    "duration": 16,
    "start_time": "2022-06-22T13:00:03.504Z"
   },
   {
    "duration": 148,
    "start_time": "2022-06-22T13:00:14.995Z"
   },
   {
    "duration": 17,
    "start_time": "2022-06-22T13:00:15.942Z"
   },
   {
    "duration": 142,
    "start_time": "2022-06-22T13:00:27.207Z"
   },
   {
    "duration": 12,
    "start_time": "2022-06-22T13:00:28.323Z"
   },
   {
    "duration": 166,
    "start_time": "2022-06-22T13:00:36.179Z"
   },
   {
    "duration": 14,
    "start_time": "2022-06-22T13:00:40.607Z"
   },
   {
    "duration": 12,
    "start_time": "2022-06-22T13:01:40.101Z"
   },
   {
    "duration": 4,
    "start_time": "2022-06-22T13:01:51.740Z"
   },
   {
    "duration": 41,
    "start_time": "2022-06-22T13:02:13.079Z"
   },
   {
    "duration": 25,
    "start_time": "2022-06-22T13:02:42.648Z"
   },
   {
    "duration": 12,
    "start_time": "2022-06-22T13:02:49.516Z"
   },
   {
    "duration": 1264,
    "start_time": "2022-06-22T13:37:50.433Z"
   },
   {
    "duration": 1004,
    "start_time": "2022-06-22T13:37:51.699Z"
   },
   {
    "duration": 12,
    "start_time": "2022-06-22T13:37:52.705Z"
   },
   {
    "duration": 34,
    "start_time": "2022-06-22T13:37:52.718Z"
   },
   {
    "duration": 56,
    "start_time": "2022-06-22T13:37:52.754Z"
   },
   {
    "duration": 52,
    "start_time": "2022-06-22T13:37:52.812Z"
   },
   {
    "duration": 68,
    "start_time": "2022-06-22T13:37:52.865Z"
   },
   {
    "duration": 31,
    "start_time": "2022-06-22T13:37:52.935Z"
   },
   {
    "duration": 21,
    "start_time": "2022-06-22T13:37:52.972Z"
   },
   {
    "duration": 27,
    "start_time": "2022-06-22T13:37:52.994Z"
   },
   {
    "duration": 24,
    "start_time": "2022-06-22T13:37:53.023Z"
   },
   {
    "duration": 158,
    "start_time": "2022-06-22T13:37:53.049Z"
   },
   {
    "duration": 116,
    "start_time": "2022-06-22T13:37:53.209Z"
   },
   {
    "duration": 8,
    "start_time": "2022-06-22T13:37:53.328Z"
   },
   {
    "duration": 14,
    "start_time": "2022-06-22T13:37:53.337Z"
   },
   {
    "duration": 61,
    "start_time": "2022-06-22T13:37:53.352Z"
   },
   {
    "duration": 29,
    "start_time": "2022-06-22T13:37:53.415Z"
   },
   {
    "duration": 663,
    "start_time": "2022-06-22T13:37:53.446Z"
   },
   {
    "duration": 130,
    "start_time": "2022-06-22T13:37:54.111Z"
   },
   {
    "duration": 186,
    "start_time": "2022-06-22T13:37:54.243Z"
   },
   {
    "duration": 196,
    "start_time": "2022-06-22T13:37:54.431Z"
   },
   {
    "duration": 8,
    "start_time": "2022-06-22T13:37:54.628Z"
   },
   {
    "duration": 36,
    "start_time": "2022-06-22T13:37:54.638Z"
   },
   {
    "duration": 22,
    "start_time": "2022-06-22T13:37:54.683Z"
   },
   {
    "duration": 32,
    "start_time": "2022-06-22T13:37:54.706Z"
   },
   {
    "duration": 66,
    "start_time": "2022-06-22T13:37:54.740Z"
   },
   {
    "duration": 116,
    "start_time": "2022-06-22T13:37:54.808Z"
   },
   {
    "duration": 11,
    "start_time": "2022-06-22T13:37:54.926Z"
   },
   {
    "duration": 4,
    "start_time": "2022-06-22T13:37:54.939Z"
   },
   {
    "duration": 67,
    "start_time": "2022-06-22T13:37:54.945Z"
   },
   {
    "duration": 15,
    "start_time": "2022-06-22T13:37:55.014Z"
   },
   {
    "duration": 32,
    "start_time": "2022-06-22T13:37:55.031Z"
   },
   {
    "duration": 37,
    "start_time": "2022-06-22T13:37:55.065Z"
   },
   {
    "duration": 11,
    "start_time": "2022-06-22T13:37:55.104Z"
   },
   {
    "duration": 12,
    "start_time": "2022-06-22T13:37:55.117Z"
   },
   {
    "duration": 19,
    "start_time": "2022-06-22T13:37:55.131Z"
   },
   {
    "duration": 27,
    "start_time": "2022-06-22T13:37:55.152Z"
   },
   {
    "duration": 36,
    "start_time": "2022-06-22T13:37:55.181Z"
   },
   {
    "duration": 8,
    "start_time": "2022-06-22T13:37:55.220Z"
   },
   {
    "duration": 30,
    "start_time": "2022-06-22T13:37:55.230Z"
   },
   {
    "duration": 55,
    "start_time": "2022-06-22T13:37:55.265Z"
   },
   {
    "duration": 24,
    "start_time": "2022-06-22T13:37:55.322Z"
   },
   {
    "duration": 26,
    "start_time": "2022-06-22T13:37:55.348Z"
   },
   {
    "duration": 44,
    "start_time": "2022-06-22T13:37:55.380Z"
   },
   {
    "duration": 24,
    "start_time": "2022-06-22T13:37:55.426Z"
   },
   {
    "duration": 116,
    "start_time": "2022-06-22T13:37:55.452Z"
   },
   {
    "duration": 149,
    "start_time": "2022-06-22T13:37:55.570Z"
   },
   {
    "duration": 0,
    "start_time": "2022-06-22T13:37:55.722Z"
   },
   {
    "duration": 0,
    "start_time": "2022-06-22T13:37:55.724Z"
   },
   {
    "duration": 0,
    "start_time": "2022-06-22T13:37:55.725Z"
   },
   {
    "duration": 29,
    "start_time": "2022-06-22T13:38:03.899Z"
   },
   {
    "duration": 41,
    "start_time": "2022-06-22T13:38:06.537Z"
   },
   {
    "duration": 1050,
    "start_time": "2022-06-22T13:38:08.161Z"
   },
   {
    "duration": 12919,
    "start_time": "2022-06-22T13:38:12.137Z"
   },
   {
    "duration": 30947,
    "start_time": "2022-06-22T13:38:34.004Z"
   },
   {
    "duration": 0,
    "start_time": "2022-06-22T13:39:04.970Z"
   },
   {
    "duration": 14,
    "start_time": "2022-06-22T13:39:07.211Z"
   },
   {
    "duration": 18,
    "start_time": "2022-06-22T13:40:59.880Z"
   },
   {
    "duration": 295,
    "start_time": "2022-06-22T13:41:21.827Z"
   },
   {
    "duration": 275,
    "start_time": "2022-06-22T13:41:45.331Z"
   },
   {
    "duration": 193,
    "start_time": "2022-06-22T13:42:35.733Z"
   },
   {
    "duration": 328,
    "start_time": "2022-06-22T13:43:01.952Z"
   },
   {
    "duration": 230,
    "start_time": "2022-06-22T13:43:07.601Z"
   },
   {
    "duration": 263,
    "start_time": "2022-06-22T13:44:37.635Z"
   },
   {
    "duration": 2619,
    "start_time": "2022-06-22T13:44:54.444Z"
   },
   {
    "duration": 9,
    "start_time": "2022-06-22T13:48:36.239Z"
   },
   {
    "duration": 21,
    "start_time": "2022-06-22T13:48:40.821Z"
   },
   {
    "duration": 24,
    "start_time": "2022-06-22T13:49:43.442Z"
   },
   {
    "duration": 2031,
    "start_time": "2022-06-22T13:49:52.376Z"
   },
   {
    "duration": 8,
    "start_time": "2022-06-22T13:50:03.803Z"
   },
   {
    "duration": 28,
    "start_time": "2022-06-22T13:50:14.516Z"
   },
   {
    "duration": 8,
    "start_time": "2022-06-22T13:50:19.506Z"
   },
   {
    "duration": 19,
    "start_time": "2022-06-22T13:52:01.596Z"
   },
   {
    "duration": 15,
    "start_time": "2022-06-22T13:52:23.132Z"
   },
   {
    "duration": 21,
    "start_time": "2022-06-22T13:52:34.749Z"
   },
   {
    "duration": 4,
    "start_time": "2022-06-22T13:52:40.707Z"
   },
   {
    "duration": 7,
    "start_time": "2022-06-22T13:52:45.933Z"
   },
   {
    "duration": 8,
    "start_time": "2022-06-22T13:53:02.927Z"
   },
   {
    "duration": 19,
    "start_time": "2022-06-22T13:53:09.579Z"
   },
   {
    "duration": 15,
    "start_time": "2022-06-22T13:53:19.712Z"
   },
   {
    "duration": 23,
    "start_time": "2022-06-22T13:53:25.690Z"
   },
   {
    "duration": 8,
    "start_time": "2022-06-22T13:53:29.812Z"
   },
   {
    "duration": 17,
    "start_time": "2022-06-22T13:53:36.529Z"
   },
   {
    "duration": 12,
    "start_time": "2022-06-22T13:53:38.545Z"
   },
   {
    "duration": 19,
    "start_time": "2022-06-22T13:53:54.273Z"
   },
   {
    "duration": 4,
    "start_time": "2022-06-22T13:54:11.308Z"
   },
   {
    "duration": 8,
    "start_time": "2022-06-22T13:54:13.612Z"
   },
   {
    "duration": 4,
    "start_time": "2022-06-22T13:54:27.245Z"
   },
   {
    "duration": 3,
    "start_time": "2022-06-22T13:54:37.925Z"
   },
   {
    "duration": 17,
    "start_time": "2022-06-22T13:54:41.686Z"
   },
   {
    "duration": 20,
    "start_time": "2022-06-22T13:55:55.913Z"
   },
   {
    "duration": 9,
    "start_time": "2022-06-22T13:55:56.506Z"
   },
   {
    "duration": 46,
    "start_time": "2022-06-22T13:56:19.052Z"
   },
   {
    "duration": 25,
    "start_time": "2022-06-22T13:57:52.995Z"
   },
   {
    "duration": 24,
    "start_time": "2022-06-22T13:58:02.097Z"
   },
   {
    "duration": 33,
    "start_time": "2022-06-22T13:58:15.138Z"
   },
   {
    "duration": 7,
    "start_time": "2022-06-22T13:58:20.331Z"
   },
   {
    "duration": 32,
    "start_time": "2022-06-22T13:58:33.473Z"
   },
   {
    "duration": 24,
    "start_time": "2022-06-22T13:58:39.398Z"
   },
   {
    "duration": 27,
    "start_time": "2022-06-22T13:58:44.191Z"
   },
   {
    "duration": 21,
    "start_time": "2022-06-22T13:58:52.405Z"
   },
   {
    "duration": 30,
    "start_time": "2022-06-22T13:59:00.883Z"
   },
   {
    "duration": 19,
    "start_time": "2022-06-22T14:00:23.506Z"
   },
   {
    "duration": 6,
    "start_time": "2022-06-22T14:00:28.122Z"
   },
   {
    "duration": 3,
    "start_time": "2022-06-22T14:00:34.347Z"
   },
   {
    "duration": 7,
    "start_time": "2022-06-22T14:00:36.314Z"
   },
   {
    "duration": 16,
    "start_time": "2022-06-22T14:02:08.782Z"
   },
   {
    "duration": 23,
    "start_time": "2022-06-22T14:02:17.082Z"
   },
   {
    "duration": 6,
    "start_time": "2022-06-22T14:02:17.808Z"
   },
   {
    "duration": 4,
    "start_time": "2022-06-22T14:02:30.602Z"
   },
   {
    "duration": 27,
    "start_time": "2022-06-22T14:02:44.183Z"
   },
   {
    "duration": 7,
    "start_time": "2022-06-22T14:02:46.398Z"
   },
   {
    "duration": 6,
    "start_time": "2022-06-22T14:02:52.309Z"
   },
   {
    "duration": 16,
    "start_time": "2022-06-22T14:02:57.018Z"
   },
   {
    "duration": 7,
    "start_time": "2022-06-22T14:03:01.713Z"
   },
   {
    "duration": 4,
    "start_time": "2022-06-22T14:03:37.909Z"
   },
   {
    "duration": 4,
    "start_time": "2022-06-22T14:03:38.918Z"
   },
   {
    "duration": 9,
    "start_time": "2022-06-22T14:03:42.174Z"
   },
   {
    "duration": 16,
    "start_time": "2022-06-22T14:04:30.111Z"
   },
   {
    "duration": 6,
    "start_time": "2022-06-22T14:04:30.616Z"
   },
   {
    "duration": 9,
    "start_time": "2022-06-22T14:04:46.883Z"
   },
   {
    "duration": 5,
    "start_time": "2022-06-22T14:05:28.130Z"
   },
   {
    "duration": 5,
    "start_time": "2022-06-22T14:05:36.199Z"
   },
   {
    "duration": 9,
    "start_time": "2022-06-22T14:05:42.211Z"
   },
   {
    "duration": 16,
    "start_time": "2022-06-22T14:05:57.688Z"
   },
   {
    "duration": 9,
    "start_time": "2022-06-22T14:05:58.398Z"
   },
   {
    "duration": 21,
    "start_time": "2022-06-22T14:05:59.853Z"
   },
   {
    "duration": 11,
    "start_time": "2022-06-22T14:06:00.680Z"
   },
   {
    "duration": 4,
    "start_time": "2022-06-22T14:06:17.109Z"
   },
   {
    "duration": 9,
    "start_time": "2022-06-22T14:06:18.332Z"
   },
   {
    "duration": 18,
    "start_time": "2022-06-22T14:16:23.622Z"
   },
   {
    "duration": 12,
    "start_time": "2022-06-22T14:16:29.734Z"
   },
   {
    "duration": 20,
    "start_time": "2022-06-22T14:17:23.201Z"
   },
   {
    "duration": 12,
    "start_time": "2022-06-22T14:17:35.345Z"
   },
   {
    "duration": 9,
    "start_time": "2022-06-22T14:19:02.903Z"
   },
   {
    "duration": 7,
    "start_time": "2022-06-22T14:19:23.105Z"
   },
   {
    "duration": 9,
    "start_time": "2022-06-22T14:19:29.135Z"
   },
   {
    "duration": 5,
    "start_time": "2022-06-22T14:19:38.130Z"
   },
   {
    "duration": 9,
    "start_time": "2022-06-22T14:19:40.304Z"
   },
   {
    "duration": 12,
    "start_time": "2022-06-22T14:19:46.151Z"
   },
   {
    "duration": 10,
    "start_time": "2022-06-22T14:20:10.878Z"
   },
   {
    "duration": 9,
    "start_time": "2022-06-22T14:20:16.383Z"
   },
   {
    "duration": 14,
    "start_time": "2022-06-22T14:20:35.827Z"
   },
   {
    "duration": 11,
    "start_time": "2022-06-22T14:20:39.974Z"
   },
   {
    "duration": 26,
    "start_time": "2022-06-22T14:20:57.894Z"
   },
   {
    "duration": 12,
    "start_time": "2022-06-22T14:20:59.022Z"
   },
   {
    "duration": 50,
    "start_time": "2022-06-22T14:24:56.341Z"
   },
   {
    "duration": 26,
    "start_time": "2022-06-22T14:25:35.392Z"
   },
   {
    "duration": 7,
    "start_time": "2022-06-22T14:31:12.438Z"
   },
   {
    "duration": 13,
    "start_time": "2022-06-22T14:31:16.175Z"
   },
   {
    "duration": 4,
    "start_time": "2022-06-22T14:31:35.744Z"
   },
   {
    "duration": 6,
    "start_time": "2022-06-22T14:31:41.215Z"
   },
   {
    "duration": 13,
    "start_time": "2022-06-22T14:32:04.878Z"
   },
   {
    "duration": 4,
    "start_time": "2022-06-22T14:32:14.913Z"
   },
   {
    "duration": 4,
    "start_time": "2022-06-22T14:32:27.489Z"
   },
   {
    "duration": 3,
    "start_time": "2022-06-22T14:47:02.013Z"
   },
   {
    "duration": 11,
    "start_time": "2022-06-22T14:47:04.899Z"
   },
   {
    "duration": 1295,
    "start_time": "2022-06-22T14:47:29.782Z"
   },
   {
    "duration": 274,
    "start_time": "2022-06-22T14:47:31.086Z"
   },
   {
    "duration": 15,
    "start_time": "2022-06-22T14:47:31.362Z"
   },
   {
    "duration": 51,
    "start_time": "2022-06-22T14:47:31.381Z"
   },
   {
    "duration": 53,
    "start_time": "2022-06-22T14:47:31.435Z"
   },
   {
    "duration": 52,
    "start_time": "2022-06-22T14:47:31.490Z"
   },
   {
    "duration": 68,
    "start_time": "2022-06-22T14:47:31.544Z"
   },
   {
    "duration": 15,
    "start_time": "2022-06-22T14:47:31.614Z"
   },
   {
    "duration": 8,
    "start_time": "2022-06-22T14:47:31.631Z"
   },
   {
    "duration": 20,
    "start_time": "2022-06-22T14:47:31.641Z"
   },
   {
    "duration": 23,
    "start_time": "2022-06-22T14:47:31.669Z"
   },
   {
    "duration": 7,
    "start_time": "2022-06-22T14:47:31.694Z"
   },
   {
    "duration": 32,
    "start_time": "2022-06-22T14:47:31.703Z"
   },
   {
    "duration": 8,
    "start_time": "2022-06-22T14:47:31.738Z"
   },
   {
    "duration": 22,
    "start_time": "2022-06-22T14:47:31.748Z"
   },
   {
    "duration": 26,
    "start_time": "2022-06-22T14:47:31.772Z"
   },
   {
    "duration": 34,
    "start_time": "2022-06-22T14:47:31.801Z"
   },
   {
    "duration": 567,
    "start_time": "2022-06-22T14:47:31.836Z"
   },
   {
    "duration": 138,
    "start_time": "2022-06-22T14:47:32.404Z"
   },
   {
    "duration": 194,
    "start_time": "2022-06-22T14:47:32.543Z"
   },
   {
    "duration": 174,
    "start_time": "2022-06-22T14:47:32.738Z"
   },
   {
    "duration": 7,
    "start_time": "2022-06-22T14:47:32.914Z"
   },
   {
    "duration": 45,
    "start_time": "2022-06-22T14:47:32.923Z"
   },
   {
    "duration": 14,
    "start_time": "2022-06-22T14:47:32.973Z"
   },
   {
    "duration": 40,
    "start_time": "2022-06-22T14:47:32.990Z"
   },
   {
    "duration": 66,
    "start_time": "2022-06-22T14:47:33.033Z"
   },
   {
    "duration": 115,
    "start_time": "2022-06-22T14:47:33.100Z"
   },
   {
    "duration": 13,
    "start_time": "2022-06-22T14:47:33.217Z"
   },
   {
    "duration": 25,
    "start_time": "2022-06-22T14:47:33.231Z"
   },
   {
    "duration": 27,
    "start_time": "2022-06-22T14:47:33.258Z"
   },
   {
    "duration": 14,
    "start_time": "2022-06-22T14:47:33.287Z"
   },
   {
    "duration": 18,
    "start_time": "2022-06-22T14:47:33.302Z"
   },
   {
    "duration": 11,
    "start_time": "2022-06-22T14:47:33.322Z"
   },
   {
    "duration": 8,
    "start_time": "2022-06-22T14:47:33.335Z"
   },
   {
    "duration": 21,
    "start_time": "2022-06-22T14:47:33.359Z"
   },
   {
    "duration": 19,
    "start_time": "2022-06-22T14:47:33.382Z"
   },
   {
    "duration": 15,
    "start_time": "2022-06-22T14:47:33.402Z"
   },
   {
    "duration": 12,
    "start_time": "2022-06-22T14:47:33.420Z"
   },
   {
    "duration": 27,
    "start_time": "2022-06-22T14:47:33.434Z"
   },
   {
    "duration": 25,
    "start_time": "2022-06-22T14:47:33.465Z"
   },
   {
    "duration": 6,
    "start_time": "2022-06-22T14:47:33.496Z"
   },
   {
    "duration": 19,
    "start_time": "2022-06-22T14:47:33.504Z"
   },
   {
    "duration": 10,
    "start_time": "2022-06-22T14:47:33.525Z"
   },
   {
    "duration": 35,
    "start_time": "2022-06-22T14:47:33.537Z"
   },
   {
    "duration": 30,
    "start_time": "2022-06-22T14:47:33.574Z"
   },
   {
    "duration": 100,
    "start_time": "2022-06-22T14:47:33.606Z"
   },
   {
    "duration": 23,
    "start_time": "2022-06-22T14:47:33.708Z"
   },
   {
    "duration": 41,
    "start_time": "2022-06-22T14:47:33.733Z"
   },
   {
    "duration": 865,
    "start_time": "2022-06-22T14:47:33.776Z"
   },
   {
    "duration": 27,
    "start_time": "2022-06-22T14:47:34.642Z"
   },
   {
    "duration": 8,
    "start_time": "2022-06-22T14:47:34.671Z"
   },
   {
    "duration": 7,
    "start_time": "2022-06-22T14:47:34.681Z"
   },
   {
    "duration": 10,
    "start_time": "2022-06-22T14:47:34.689Z"
   },
   {
    "duration": 33,
    "start_time": "2022-06-22T14:47:34.701Z"
   },
   {
    "duration": 135,
    "start_time": "2022-06-22T14:47:34.736Z"
   },
   {
    "duration": 10,
    "start_time": "2022-06-22T14:47:34.873Z"
   },
   {
    "duration": 4,
    "start_time": "2022-06-22T14:47:34.885Z"
   },
   {
    "duration": 12,
    "start_time": "2022-06-22T14:47:34.891Z"
   },
   {
    "duration": 7,
    "start_time": "2022-06-22T14:47:49.213Z"
   },
   {
    "duration": 102,
    "start_time": "2022-06-22T14:47:59.508Z"
   },
   {
    "duration": 12,
    "start_time": "2022-06-22T14:48:03.570Z"
   },
   {
    "duration": 12,
    "start_time": "2022-06-22T14:48:21.665Z"
   },
   {
    "duration": 11,
    "start_time": "2022-06-22T14:48:36.466Z"
   },
   {
    "duration": 13,
    "start_time": "2022-06-22T14:48:56.569Z"
   },
   {
    "duration": 28,
    "start_time": "2022-06-22T14:49:00.143Z"
   },
   {
    "duration": 14,
    "start_time": "2022-06-22T14:51:56.672Z"
   },
   {
    "duration": 13,
    "start_time": "2022-06-22T14:52:05.974Z"
   },
   {
    "duration": 12,
    "start_time": "2022-06-22T14:52:09.312Z"
   },
   {
    "duration": 13,
    "start_time": "2022-06-22T14:52:13.869Z"
   },
   {
    "duration": 18,
    "start_time": "2022-06-22T14:55:01.943Z"
   },
   {
    "duration": 20,
    "start_time": "2022-06-22T14:56:44.269Z"
   },
   {
    "duration": 12,
    "start_time": "2022-06-22T15:00:57.376Z"
   },
   {
    "duration": 3,
    "start_time": "2022-06-22T15:01:12.118Z"
   },
   {
    "duration": 15,
    "start_time": "2022-06-22T15:02:25.085Z"
   },
   {
    "duration": 1299,
    "start_time": "2022-06-22T15:15:33.169Z"
   },
   {
    "duration": 514,
    "start_time": "2022-06-22T15:15:34.471Z"
   },
   {
    "duration": 11,
    "start_time": "2022-06-22T15:15:34.987Z"
   },
   {
    "duration": 157,
    "start_time": "2022-06-22T15:15:35.000Z"
   },
   {
    "duration": 100,
    "start_time": "2022-06-22T15:15:35.161Z"
   },
   {
    "duration": 94,
    "start_time": "2022-06-22T15:15:35.269Z"
   },
   {
    "duration": 93,
    "start_time": "2022-06-22T15:15:35.364Z"
   },
   {
    "duration": 30,
    "start_time": "2022-06-22T15:15:35.460Z"
   },
   {
    "duration": 13,
    "start_time": "2022-06-22T15:15:35.492Z"
   },
   {
    "duration": 49,
    "start_time": "2022-06-22T15:15:35.507Z"
   },
   {
    "duration": 33,
    "start_time": "2022-06-22T15:15:35.560Z"
   },
   {
    "duration": 6,
    "start_time": "2022-06-22T15:15:35.594Z"
   },
   {
    "duration": 72,
    "start_time": "2022-06-22T15:15:35.601Z"
   },
   {
    "duration": 10,
    "start_time": "2022-06-22T15:15:35.679Z"
   },
   {
    "duration": 13,
    "start_time": "2022-06-22T15:15:35.691Z"
   },
   {
    "duration": 58,
    "start_time": "2022-06-22T15:15:35.705Z"
   },
   {
    "duration": 31,
    "start_time": "2022-06-22T15:15:35.765Z"
   },
   {
    "duration": 972,
    "start_time": "2022-06-22T15:15:35.798Z"
   },
   {
    "duration": 142,
    "start_time": "2022-06-22T15:15:36.775Z"
   },
   {
    "duration": 183,
    "start_time": "2022-06-22T15:15:36.918Z"
   },
   {
    "duration": 177,
    "start_time": "2022-06-22T15:15:37.103Z"
   },
   {
    "duration": 8,
    "start_time": "2022-06-22T15:15:37.282Z"
   },
   {
    "duration": 27,
    "start_time": "2022-06-22T15:15:37.291Z"
   },
   {
    "duration": 9,
    "start_time": "2022-06-22T15:15:37.320Z"
   },
   {
    "duration": 58,
    "start_time": "2022-06-22T15:15:37.330Z"
   },
   {
    "duration": 46,
    "start_time": "2022-06-22T15:15:37.392Z"
   },
   {
    "duration": 106,
    "start_time": "2022-06-22T15:15:37.440Z"
   },
   {
    "duration": 26,
    "start_time": "2022-06-22T15:15:37.553Z"
   },
   {
    "duration": 11,
    "start_time": "2022-06-22T15:15:37.584Z"
   },
   {
    "duration": 19,
    "start_time": "2022-06-22T15:15:37.597Z"
   },
   {
    "duration": 11,
    "start_time": "2022-06-22T15:15:37.617Z"
   },
   {
    "duration": 17,
    "start_time": "2022-06-22T15:15:37.629Z"
   },
   {
    "duration": 13,
    "start_time": "2022-06-22T15:15:37.648Z"
   },
   {
    "duration": 29,
    "start_time": "2022-06-22T15:15:37.662Z"
   },
   {
    "duration": 12,
    "start_time": "2022-06-22T15:15:37.693Z"
   },
   {
    "duration": 94,
    "start_time": "2022-06-22T15:15:37.707Z"
   },
   {
    "duration": 12,
    "start_time": "2022-06-22T15:15:37.803Z"
   },
   {
    "duration": 12,
    "start_time": "2022-06-22T15:15:37.817Z"
   },
   {
    "duration": 7,
    "start_time": "2022-06-22T15:15:37.831Z"
   },
   {
    "duration": 15,
    "start_time": "2022-06-22T15:15:37.839Z"
   },
   {
    "duration": 23,
    "start_time": "2022-06-22T15:15:37.859Z"
   },
   {
    "duration": 18,
    "start_time": "2022-06-22T15:15:37.884Z"
   },
   {
    "duration": 10,
    "start_time": "2022-06-22T15:15:37.904Z"
   },
   {
    "duration": 12,
    "start_time": "2022-06-22T15:15:37.915Z"
   },
   {
    "duration": 17,
    "start_time": "2022-06-22T15:15:37.928Z"
   },
   {
    "duration": 99,
    "start_time": "2022-06-22T15:15:37.946Z"
   },
   {
    "duration": 37,
    "start_time": "2022-06-22T15:15:38.047Z"
   },
   {
    "duration": 23,
    "start_time": "2022-06-22T15:15:38.086Z"
   },
   {
    "duration": 949,
    "start_time": "2022-06-22T15:15:38.111Z"
   },
   {
    "duration": 21,
    "start_time": "2022-06-22T15:15:39.064Z"
   },
   {
    "duration": 11,
    "start_time": "2022-06-22T15:15:39.086Z"
   },
   {
    "duration": 6,
    "start_time": "2022-06-22T15:15:39.099Z"
   },
   {
    "duration": 10,
    "start_time": "2022-06-22T15:15:39.107Z"
   },
   {
    "duration": 49,
    "start_time": "2022-06-22T15:15:39.119Z"
   },
   {
    "duration": 106,
    "start_time": "2022-06-22T15:15:39.175Z"
   },
   {
    "duration": 23,
    "start_time": "2022-06-22T15:15:39.282Z"
   },
   {
    "duration": 3,
    "start_time": "2022-06-22T15:15:39.307Z"
   },
   {
    "duration": 11,
    "start_time": "2022-06-22T15:15:39.312Z"
   },
   {
    "duration": 10,
    "start_time": "2022-06-22T15:15:39.324Z"
   },
   {
    "duration": 40,
    "start_time": "2022-06-22T15:15:39.335Z"
   },
   {
    "duration": 11,
    "start_time": "2022-06-22T15:18:03.220Z"
   },
   {
    "duration": 10,
    "start_time": "2022-06-22T15:18:12.123Z"
   },
   {
    "duration": 41,
    "start_time": "2022-06-22T20:53:30.850Z"
   },
   {
    "duration": 1293,
    "start_time": "2022-06-22T20:54:19.995Z"
   },
   {
    "duration": 399,
    "start_time": "2022-06-22T20:54:21.290Z"
   },
   {
    "duration": 66,
    "start_time": "2022-06-22T20:54:21.691Z"
   },
   {
    "duration": 103,
    "start_time": "2022-06-22T20:54:21.760Z"
   },
   {
    "duration": 86,
    "start_time": "2022-06-22T20:54:21.865Z"
   },
   {
    "duration": 44,
    "start_time": "2022-06-22T20:54:21.953Z"
   },
   {
    "duration": 81,
    "start_time": "2022-06-22T20:54:21.999Z"
   },
   {
    "duration": 14,
    "start_time": "2022-06-22T20:54:22.082Z"
   },
   {
    "duration": 58,
    "start_time": "2022-06-22T20:54:22.098Z"
   },
   {
    "duration": 26,
    "start_time": "2022-06-22T20:54:22.159Z"
   },
   {
    "duration": 7,
    "start_time": "2022-06-22T20:54:22.186Z"
   },
   {
    "duration": 11,
    "start_time": "2022-06-22T20:54:22.194Z"
   },
   {
    "duration": 36,
    "start_time": "2022-06-22T20:54:22.250Z"
   },
   {
    "duration": 6,
    "start_time": "2022-06-22T20:54:22.287Z"
   },
   {
    "duration": 11,
    "start_time": "2022-06-22T20:54:22.294Z"
   },
   {
    "duration": 59,
    "start_time": "2022-06-22T20:54:22.307Z"
   },
   {
    "duration": 15,
    "start_time": "2022-06-22T20:54:22.368Z"
   },
   {
    "duration": 635,
    "start_time": "2022-06-22T20:54:22.384Z"
   },
   {
    "duration": 110,
    "start_time": "2022-06-22T20:54:23.020Z"
   },
   {
    "duration": 140,
    "start_time": "2022-06-22T20:54:23.132Z"
   },
   {
    "duration": 113,
    "start_time": "2022-06-22T20:54:23.274Z"
   },
   {
    "duration": 7,
    "start_time": "2022-06-22T20:54:23.388Z"
   },
   {
    "duration": 21,
    "start_time": "2022-06-22T20:54:23.396Z"
   },
   {
    "duration": 7,
    "start_time": "2022-06-22T20:54:23.419Z"
   },
   {
    "duration": 39,
    "start_time": "2022-06-22T20:54:23.427Z"
   },
   {
    "duration": 5,
    "start_time": "2022-06-22T20:54:23.468Z"
   },
   {
    "duration": 31,
    "start_time": "2022-06-22T20:54:23.474Z"
   },
   {
    "duration": 97,
    "start_time": "2022-06-22T20:54:23.508Z"
   },
   {
    "duration": 9,
    "start_time": "2022-06-22T20:54:23.607Z"
   },
   {
    "duration": 3,
    "start_time": "2022-06-22T20:54:23.618Z"
   },
   {
    "duration": 15,
    "start_time": "2022-06-22T20:54:23.622Z"
   },
   {
    "duration": 21,
    "start_time": "2022-06-22T20:54:23.638Z"
   },
   {
    "duration": 20,
    "start_time": "2022-06-22T20:54:23.661Z"
   },
   {
    "duration": 8,
    "start_time": "2022-06-22T20:54:23.682Z"
   },
   {
    "duration": 7,
    "start_time": "2022-06-22T20:54:23.692Z"
   },
   {
    "duration": 9,
    "start_time": "2022-06-22T20:54:23.700Z"
   },
   {
    "duration": 11,
    "start_time": "2022-06-22T20:54:23.710Z"
   },
   {
    "duration": 10,
    "start_time": "2022-06-22T20:54:23.723Z"
   },
   {
    "duration": 13,
    "start_time": "2022-06-22T20:54:23.751Z"
   },
   {
    "duration": 7,
    "start_time": "2022-06-22T20:54:23.766Z"
   },
   {
    "duration": 13,
    "start_time": "2022-06-22T20:54:23.775Z"
   },
   {
    "duration": 3,
    "start_time": "2022-06-22T20:54:23.789Z"
   },
   {
    "duration": 12,
    "start_time": "2022-06-22T20:54:23.794Z"
   },
   {
    "duration": 9,
    "start_time": "2022-06-22T20:54:23.808Z"
   },
   {
    "duration": 43,
    "start_time": "2022-06-22T20:54:23.818Z"
   },
   {
    "duration": 19,
    "start_time": "2022-06-22T20:54:23.862Z"
   },
   {
    "duration": 80,
    "start_time": "2022-06-22T20:54:23.882Z"
   },
   {
    "duration": 17,
    "start_time": "2022-06-22T20:54:23.964Z"
   },
   {
    "duration": 17,
    "start_time": "2022-06-22T20:54:23.982Z"
   },
   {
    "duration": 749,
    "start_time": "2022-06-22T20:54:24.000Z"
   },
   {
    "duration": 17,
    "start_time": "2022-06-22T20:54:24.751Z"
   },
   {
    "duration": 8,
    "start_time": "2022-06-22T20:54:24.769Z"
   },
   {
    "duration": 6,
    "start_time": "2022-06-22T20:54:24.778Z"
   },
   {
    "duration": 9,
    "start_time": "2022-06-22T20:54:24.785Z"
   },
   {
    "duration": 28,
    "start_time": "2022-06-22T20:54:24.795Z"
   },
   {
    "duration": 107,
    "start_time": "2022-06-22T20:54:24.824Z"
   },
   {
    "duration": 24,
    "start_time": "2022-06-22T20:54:24.933Z"
   },
   {
    "duration": 4,
    "start_time": "2022-06-22T20:54:24.959Z"
   },
   {
    "duration": 16,
    "start_time": "2022-06-22T20:54:24.965Z"
   },
   {
    "duration": 9,
    "start_time": "2022-06-22T20:54:24.982Z"
   },
   {
    "duration": 9,
    "start_time": "2022-06-22T20:54:24.993Z"
   },
   {
    "duration": 8,
    "start_time": "2022-06-22T20:54:41.763Z"
   },
   {
    "duration": 52,
    "start_time": "2022-06-24T13:03:16.420Z"
   },
   {
    "duration": 1424,
    "start_time": "2022-06-24T13:03:22.039Z"
   },
   {
    "duration": 679,
    "start_time": "2022-06-24T13:03:23.465Z"
   },
   {
    "duration": 14,
    "start_time": "2022-06-24T13:03:24.146Z"
   },
   {
    "duration": 53,
    "start_time": "2022-06-24T13:03:24.162Z"
   },
   {
    "duration": 37,
    "start_time": "2022-06-24T13:03:24.217Z"
   },
   {
    "duration": 61,
    "start_time": "2022-06-24T13:03:24.257Z"
   },
   {
    "duration": 49,
    "start_time": "2022-06-24T13:03:24.320Z"
   },
   {
    "duration": 70,
    "start_time": "2022-06-24T13:03:24.370Z"
   },
   {
    "duration": 13,
    "start_time": "2022-06-24T13:03:24.442Z"
   },
   {
    "duration": 22,
    "start_time": "2022-06-24T13:03:24.458Z"
   },
   {
    "duration": 12,
    "start_time": "2022-06-24T13:03:24.483Z"
   },
   {
    "duration": 17,
    "start_time": "2022-06-24T13:03:24.498Z"
   },
   {
    "duration": 114,
    "start_time": "2022-06-24T13:03:24.517Z"
   },
   {
    "duration": 9,
    "start_time": "2022-06-24T13:03:24.634Z"
   },
   {
    "duration": 31,
    "start_time": "2022-06-24T13:03:24.645Z"
   },
   {
    "duration": 20,
    "start_time": "2022-06-24T13:03:24.678Z"
   },
   {
    "duration": 35,
    "start_time": "2022-06-24T13:03:24.700Z"
   },
   {
    "duration": 593,
    "start_time": "2022-06-24T13:03:24.737Z"
   },
   {
    "duration": 138,
    "start_time": "2022-06-24T13:03:25.332Z"
   },
   {
    "duration": 182,
    "start_time": "2022-06-24T13:03:25.472Z"
   },
   {
    "duration": 156,
    "start_time": "2022-06-24T13:03:25.655Z"
   },
   {
    "duration": 14,
    "start_time": "2022-06-24T13:03:25.813Z"
   },
   {
    "duration": 41,
    "start_time": "2022-06-24T13:03:25.829Z"
   },
   {
    "duration": 11,
    "start_time": "2022-06-24T13:03:25.872Z"
   },
   {
    "duration": 46,
    "start_time": "2022-06-24T13:03:25.884Z"
   },
   {
    "duration": 10,
    "start_time": "2022-06-24T13:03:25.932Z"
   },
   {
    "duration": 43,
    "start_time": "2022-06-24T13:03:25.944Z"
   },
   {
    "duration": 118,
    "start_time": "2022-06-24T13:03:25.991Z"
   },
   {
    "duration": 20,
    "start_time": "2022-06-24T13:03:26.111Z"
   },
   {
    "duration": 6,
    "start_time": "2022-06-24T13:03:26.133Z"
   },
   {
    "duration": 24,
    "start_time": "2022-06-24T13:03:26.141Z"
   },
   {
    "duration": 12,
    "start_time": "2022-06-24T13:03:26.168Z"
   },
   {
    "duration": 21,
    "start_time": "2022-06-24T13:03:26.182Z"
   },
   {
    "duration": 36,
    "start_time": "2022-06-24T13:03:26.205Z"
   },
   {
    "duration": 14,
    "start_time": "2022-06-24T13:03:26.242Z"
   },
   {
    "duration": 19,
    "start_time": "2022-06-24T13:03:26.258Z"
   },
   {
    "duration": 24,
    "start_time": "2022-06-24T13:03:26.279Z"
   },
   {
    "duration": 23,
    "start_time": "2022-06-24T13:03:26.305Z"
   },
   {
    "duration": 25,
    "start_time": "2022-06-24T13:03:26.330Z"
   },
   {
    "duration": 14,
    "start_time": "2022-06-24T13:03:26.357Z"
   },
   {
    "duration": 16,
    "start_time": "2022-06-24T13:03:26.373Z"
   },
   {
    "duration": 19,
    "start_time": "2022-06-24T13:03:26.391Z"
   },
   {
    "duration": 16,
    "start_time": "2022-06-24T13:03:26.412Z"
   },
   {
    "duration": 12,
    "start_time": "2022-06-24T13:03:26.430Z"
   },
   {
    "duration": 17,
    "start_time": "2022-06-24T13:03:26.444Z"
   },
   {
    "duration": 25,
    "start_time": "2022-06-24T13:03:26.463Z"
   },
   {
    "duration": 123,
    "start_time": "2022-06-24T13:03:26.490Z"
   },
   {
    "duration": 36,
    "start_time": "2022-06-24T13:03:26.614Z"
   },
   {
    "duration": 22,
    "start_time": "2022-06-24T13:03:26.652Z"
   },
   {
    "duration": 785,
    "start_time": "2022-06-24T13:03:26.676Z"
   },
   {
    "duration": 18,
    "start_time": "2022-06-24T13:03:27.463Z"
   },
   {
    "duration": 8,
    "start_time": "2022-06-24T13:03:27.482Z"
   },
   {
    "duration": 7,
    "start_time": "2022-06-24T13:03:27.491Z"
   },
   {
    "duration": 10,
    "start_time": "2022-06-24T13:03:27.499Z"
   },
   {
    "duration": 35,
    "start_time": "2022-06-24T13:03:27.511Z"
   },
   {
    "duration": 119,
    "start_time": "2022-06-24T13:03:27.548Z"
   },
   {
    "duration": 12,
    "start_time": "2022-06-24T13:03:27.669Z"
   },
   {
    "duration": 8,
    "start_time": "2022-06-24T13:03:27.683Z"
   },
   {
    "duration": 12,
    "start_time": "2022-06-24T13:03:27.693Z"
   },
   {
    "duration": 20,
    "start_time": "2022-06-24T13:03:27.707Z"
   },
   {
    "duration": 13,
    "start_time": "2022-06-24T13:03:27.729Z"
   },
   {
    "duration": 456,
    "start_time": "2022-06-24T13:04:42.046Z"
   },
   {
    "duration": 191,
    "start_time": "2022-06-24T13:29:06.662Z"
   },
   {
    "duration": 164,
    "start_time": "2022-06-24T13:29:13.064Z"
   },
   {
    "duration": 182,
    "start_time": "2022-06-24T13:29:16.122Z"
   },
   {
    "duration": 108,
    "start_time": "2022-06-24T13:29:51.813Z"
   },
   {
    "duration": 199,
    "start_time": "2022-06-24T13:32:58.541Z"
   },
   {
    "duration": 206,
    "start_time": "2022-06-24T13:33:09.341Z"
   },
   {
    "duration": 363,
    "start_time": "2022-06-24T13:33:21.006Z"
   },
   {
    "duration": 281,
    "start_time": "2022-06-24T13:33:29.675Z"
   },
   {
    "duration": 390,
    "start_time": "2022-06-24T13:34:28.777Z"
   },
   {
    "duration": 390,
    "start_time": "2022-06-24T13:35:02.656Z"
   },
   {
    "duration": 352,
    "start_time": "2022-06-24T13:35:20.203Z"
   },
   {
    "duration": 297,
    "start_time": "2022-06-24T13:35:33.611Z"
   },
   {
    "duration": 311,
    "start_time": "2022-06-24T13:35:40.675Z"
   },
   {
    "duration": 423,
    "start_time": "2022-06-24T13:35:51.562Z"
   },
   {
    "duration": 309,
    "start_time": "2022-06-24T13:36:19.475Z"
   },
   {
    "duration": 274,
    "start_time": "2022-06-24T13:36:29.067Z"
   },
   {
    "duration": 293,
    "start_time": "2022-06-24T13:37:50.397Z"
   },
   {
    "duration": 318,
    "start_time": "2022-06-24T13:38:22.670Z"
   },
   {
    "duration": 328,
    "start_time": "2022-06-24T13:38:25.644Z"
   },
   {
    "duration": 532,
    "start_time": "2022-06-24T13:38:46.257Z"
   },
   {
    "duration": 374,
    "start_time": "2022-06-24T13:38:57.213Z"
   },
   {
    "duration": 415,
    "start_time": "2022-06-24T13:39:04.991Z"
   },
   {
    "duration": 429,
    "start_time": "2022-06-24T13:39:23.437Z"
   },
   {
    "duration": 332,
    "start_time": "2022-06-24T13:39:43.378Z"
   },
   {
    "duration": 528,
    "start_time": "2022-06-24T13:39:55.155Z"
   },
   {
    "duration": 394,
    "start_time": "2022-06-24T13:41:19.883Z"
   },
   {
    "duration": 464,
    "start_time": "2022-06-24T13:41:31.171Z"
   },
   {
    "duration": 381,
    "start_time": "2022-06-24T13:41:40.612Z"
   },
   {
    "duration": 374,
    "start_time": "2022-06-24T13:41:55.282Z"
   },
   {
    "duration": 413,
    "start_time": "2022-06-24T13:42:04.125Z"
   },
   {
    "duration": 527,
    "start_time": "2022-06-24T13:42:17.302Z"
   },
   {
    "duration": 351,
    "start_time": "2022-06-24T13:42:25.782Z"
   },
   {
    "duration": 461,
    "start_time": "2022-06-24T13:44:08.124Z"
   },
   {
    "duration": 380,
    "start_time": "2022-06-24T13:44:19.197Z"
   },
   {
    "duration": 326,
    "start_time": "2022-06-24T13:46:43.481Z"
   },
   {
    "duration": 3,
    "start_time": "2022-06-24T13:47:08.675Z"
   },
   {
    "duration": 576,
    "start_time": "2022-06-24T13:48:24.495Z"
   },
   {
    "duration": 377,
    "start_time": "2022-06-24T13:48:36.845Z"
   },
   {
    "duration": 349,
    "start_time": "2022-06-24T13:48:56.529Z"
   },
   {
    "duration": 367,
    "start_time": "2022-06-24T13:49:38.867Z"
   },
   {
    "duration": 460,
    "start_time": "2022-06-24T13:51:34.410Z"
   },
   {
    "duration": 248,
    "start_time": "2022-06-24T13:52:53.462Z"
   },
   {
    "duration": 274,
    "start_time": "2022-06-24T13:52:59.839Z"
   },
   {
    "duration": 429,
    "start_time": "2022-06-24T13:53:07.797Z"
   },
   {
    "duration": 245,
    "start_time": "2022-06-24T13:53:16.501Z"
   },
   {
    "duration": 296,
    "start_time": "2022-06-24T13:53:21.136Z"
   },
   {
    "duration": 99,
    "start_time": "2022-06-24T13:59:03.094Z"
   },
   {
    "duration": 750,
    "start_time": "2022-06-24T14:18:42.525Z"
   },
   {
    "duration": 930,
    "start_time": "2022-06-24T14:19:24.030Z"
   }
  ],
  "kernelspec": {
   "display_name": "Python 3 (ipykernel)",
   "language": "python",
   "name": "python3"
  },
  "language_info": {
   "codemirror_mode": {
    "name": "ipython",
    "version": 3
   },
   "file_extension": ".py",
   "mimetype": "text/x-python",
   "name": "python",
   "nbconvert_exporter": "python",
   "pygments_lexer": "ipython3",
   "version": "3.9.13"
  },
  "toc": {
   "base_numbering": 1,
   "nav_menu": {},
   "number_sections": true,
   "sideBar": true,
   "skip_h1_title": true,
   "title_cell": "Table of Contents",
   "title_sidebar": "Contents",
   "toc_cell": false,
   "toc_position": {
    "height": "calc(100% - 180px)",
    "left": "10px",
    "top": "150px",
    "width": "346.625px"
   },
   "toc_section_display": true,
   "toc_window_display": true
  }
 },
 "nbformat": 4,
 "nbformat_minor": 2
}
